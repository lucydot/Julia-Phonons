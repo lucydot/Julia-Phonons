{
 "cells": [
  {
   "cell_type": "code",
   "execution_count": 23,
   "metadata": {},
   "outputs": [
    {
     "name": "stderr",
     "output_type": "stream",
     "text": [
      "\u001b[1m\u001b[36mINFO: \u001b[39m\u001b[22m\u001b[36mUpdating METADATA...\n",
      "\u001b[39m\u001b[1m\u001b[36mINFO: \u001b[39m\u001b[22m\u001b[36mUpdating cache of CommonSubexpressions...\n",
      "\u001b[39m\u001b[1m\u001b[36mINFO: \u001b[39m\u001b[22m\u001b[36mUpdating cache of ColorTypes...\n",
      "\u001b[39m\u001b[1m\u001b[36mINFO: \u001b[39m\u001b[22m\u001b[36mUpdating cache of DiffEqDiffTools...\n",
      "\u001b[39m\u001b[1m\u001b[36mINFO: \u001b[39m\u001b[22m\u001b[36mUpdating cache of MbedTLS...\n",
      "\u001b[39m\u001b[1m\u001b[36mINFO: \u001b[39m\u001b[22m\u001b[36mUpdating cache of BinDeps...\n",
      "\u001b[39m\u001b[1m\u001b[36mINFO: \u001b[39m\u001b[22m\u001b[36mUpdating cache of ZMQ...\n",
      "\u001b[39m\u001b[1m\u001b[36mINFO: \u001b[39m\u001b[22m\u001b[36mUpdating cache of IJulia...\n",
      "\u001b[39m\u001b[1m\u001b[36mINFO: \u001b[39m\u001b[22m\u001b[36mUpdating cache of MacroTools...\n",
      "\u001b[39m\u001b[1m\u001b[36mINFO: \u001b[39m\u001b[22m\u001b[36mUpdating cache of Nullables...\n",
      "\u001b[39m\u001b[1m\u001b[36mINFO: \u001b[39m\u001b[22m\u001b[36mUpdating cache of URIParser...\n",
      "\u001b[39m\u001b[1m\u001b[36mINFO: \u001b[39m\u001b[22m\u001b[36mUpdating cache of LineSearches...\n",
      "\u001b[39m\u001b[1m\u001b[36mINFO: \u001b[39m\u001b[22m\u001b[36mUpdating cache of NaNMath...\n",
      "\u001b[39m\u001b[1m\u001b[36mINFO: \u001b[39m\u001b[22m\u001b[36mUpdating cache of DiffRules...\n",
      "\u001b[39m\u001b[1m\u001b[36mINFO: \u001b[39m\u001b[22m\u001b[36mUpdating cache of ForwardDiff...\n",
      "\u001b[39m\u001b[1m\u001b[36mINFO: \u001b[39m\u001b[22m\u001b[36mUpdating cache of Conda...\n",
      "\u001b[39m\u001b[1m\u001b[36mINFO: \u001b[39m\u001b[22m\u001b[36mUpdating cache of FixedPointNumbers...\n",
      "\u001b[39m\u001b[1m\u001b[36mINFO: \u001b[39m\u001b[22m\u001b[36mUpdating cache of Compat...\n",
      "\u001b[39m\u001b[1m\u001b[36mINFO: \u001b[39m\u001b[22m\u001b[36mUpdating cache of SHA...\n",
      "\u001b[39m\u001b[1m\u001b[36mINFO: \u001b[39m\u001b[22m\u001b[36mUpdating cache of JSON...\n",
      "\u001b[39m\u001b[1m\u001b[36mINFO: \u001b[39m\u001b[22m\u001b[36mUpdating cache of Homebrew...\n",
      "\u001b[39m\u001b[1m\u001b[36mINFO: \u001b[39m\u001b[22m\u001b[36mUpdating cache of YAML...\n",
      "\u001b[39m\u001b[1m\u001b[36mINFO: \u001b[39m\u001b[22m\u001b[36mUpdating cache of StaticArrays...\n",
      "\u001b[39m\u001b[1m\u001b[36mINFO: \u001b[39m\u001b[22m\u001b[36mUpdating cache of Parameters...\n",
      "\u001b[39m\u001b[1m\u001b[36mINFO: \u001b[39m\u001b[22m\u001b[36mUpdating cache of Codecs...\n",
      "\u001b[39m\u001b[1m\u001b[36mINFO: \u001b[39m\u001b[22m\u001b[36mUpdating cache of NLSolversBase...\n",
      "\u001b[39m\u001b[1m\u001b[36mINFO: \u001b[39m\u001b[22m\u001b[36mUpdating cache of QuadGK...\n",
      "\u001b[39m\u001b[1m\u001b[36mINFO: \u001b[39m\u001b[22m\u001b[36mUpdating cache of Reexport...\n",
      "\u001b[39m\u001b[1m\u001b[36mINFO: \u001b[39m\u001b[22m\u001b[36mUpdating cache of Colors...\n",
      "\u001b[39m\u001b[1m\u001b[36mINFO: \u001b[39m\u001b[22m\u001b[36mUpdating cache of DataStructures...\n",
      "\u001b[39m\u001b[1m\u001b[36mINFO: \u001b[39m\u001b[22m\u001b[36mUpdating cache of Optim...\n",
      "\u001b[39m\u001b[1m\u001b[36mINFO: \u001b[39m\u001b[22m\u001b[36mUpdating cache of PyCall...\n",
      "\u001b[39m\u001b[1m\u001b[36mINFO: \u001b[39m\u001b[22m\u001b[36mUpdating cache of BinaryProvider...\n",
      "\u001b[39m\u001b[1m\u001b[36mINFO: \u001b[39m\u001b[22m\u001b[36mUpdating cache of Calculus...\n",
      "\u001b[39m\u001b[1m\u001b[36mINFO: \u001b[39m\u001b[22m\u001b[36mUpdating cache of SpecialFunctions...\n",
      "\u001b[39m\u001b[1m\u001b[36mINFO: \u001b[39m\u001b[22m\u001b[36mUpdating cache of PositiveFactorizations...\n",
      "\u001b[39m\u001b[1m\u001b[36mINFO: \u001b[39m\u001b[22m\u001b[36mComputing changes...\n",
      "\u001b[39m\u001b[1m\u001b[36mINFO: \u001b[39m\u001b[22m\u001b[36mCloning cache of VersionParsing from https://github.com/stevengj/VersionParsing.jl.git\n",
      "\u001b[39m\u001b[1m\u001b[36mINFO: \u001b[39m\u001b[22m\u001b[36mUpgrading BinDeps: v0.8.7 => v0.8.10\n",
      "\u001b[39m\u001b[1m\u001b[36mINFO: \u001b[39m\u001b[22m\u001b[36mUpgrading Compat: v0.62.1 => v1.4.0\n",
      "\u001b[39m\u001b[1m\u001b[36mINFO: \u001b[39m\u001b[22m\u001b[36mUpgrading Conda: v0.7.1 => v1.0.2\n",
      "\u001b[39m\u001b[1m\u001b[36mINFO: \u001b[39m\u001b[22m\u001b[36mUpgrading JSON: v0.17.1 => v0.17.2\n",
      "\u001b[39m\u001b[1m\u001b[36mINFO: \u001b[39m\u001b[22m\u001b[36mUpgrading MacroTools: v0.4.0 => v0.4.4\n",
      "\u001b[39m\u001b[1m\u001b[36mINFO: \u001b[39m\u001b[22m\u001b[36mUpgrading Nullables: v0.0.4 => v0.0.8\n",
      "\u001b[39m\u001b[1m\u001b[36mINFO: \u001b[39m\u001b[22m\u001b[36mUpgrading PyCall: v1.15.0 => v1.18.5\n",
      "\u001b[39m\u001b[1m\u001b[36mINFO: \u001b[39m\u001b[22m\u001b[36mUpgrading SHA: v0.5.6 => v0.5.7\n",
      "\u001b[39m\u001b[1m\u001b[36mINFO: \u001b[39m\u001b[22m\u001b[36mInstalling VersionParsing v1.1.3\n",
      "\u001b[39m\u001b[1m\u001b[33mWARNING: \u001b[39m\u001b[22m\u001b[33mThe following packages have been updated but were already imported:\n",
      "- BinDeps\n",
      "- Compat\n",
      "- Conda\n",
      "- JSON\n",
      "- MacroTools\n",
      "- Nullables\n",
      "- PyCall\n",
      "- SHA\n",
      "Restart Julia to use the updated versions.\u001b[39m\n",
      "\u001b[1m\u001b[36mINFO: \u001b[39m\u001b[22m\u001b[36mBuilding Conda\n",
      "\u001b[39m\u001b[1m\u001b[36mINFO: \u001b[39m\u001b[22m\u001b[36mBuilding PyCall\n",
      "\u001b[39m\u001b[1m\u001b[36mInfo: \u001b[39m\u001b[22m\u001b[36mUsing the Python distribution in the Conda package by default.\n",
      "To use a different Python version, set ENV[\"PYTHON\"]=\"pythoncommand\" and re-run Pkg.build(\"PyCall\").\n",
      "\u001b[39m\u001b[1m\u001b[36mInfo: \u001b[39m\u001b[22m\u001b[36mRunning `conda install -y numpy` in root environment\n",
      "\u001b[39m"
     ]
    },
    {
     "name": "stdout",
     "output_type": "stream",
     "text": [
      "Solving environment: ...working... "
     ]
    },
    {
     "name": "stderr",
     "output_type": "stream",
     "text": [
      "/Users/lucydot/.julia/v0.6/Conda/deps/usr/lib/python2.7/site-packages/cryptography/hazmat/primitives/constant_time.py:26: CryptographyDeprecationWarning: Support for your Python version is deprecated. The next version of cryptography will remove support. Please upgrade to a 2.7.x release that supports hmac.compare_digest as soon as possible.\n",
      "  utils.DeprecatedIn23,\n"
     ]
    },
    {
     "name": "stdout",
     "output_type": "stream",
     "text": [
      "done\n",
      "\n",
      "# All requested packages already installed.\n",
      "\n"
     ]
    },
    {
     "name": "stderr",
     "output_type": "stream",
     "text": [
      "\u001b[1m\u001b[36mInfo: \u001b[39m\u001b[22m\u001b[36mPyCall is using /Users/lucydot/.julia/v0.6/Conda/deps/usr/bin/python (Python 2.7.3) at /Users/lucydot/.julia/v0.6/Conda/deps/usr/bin/python, libpython = /Users/lucydot/.julia/v0.6/Conda/deps/usr/lib/libpython2.7.dylib\n",
      "\u001b[39m\u001b[1m\u001b[36mInfo: \u001b[39m\u001b[22m\u001b[36m/Users/lucydot/.julia/v0.6/PyCall/deps/deps.jl has been updated\n",
      "\u001b[39m\u001b[1m\u001b[36mInfo: \u001b[39m\u001b[22m\u001b[36m/Users/lucydot/.julia/v0.6/PyCall/deps/PYTHON has been updated\n",
      "\u001b[39m"
     ]
    }
   ],
   "source": [
    "Pkg.update(\"PyCall\")"
   ]
  },
  {
   "cell_type": "code",
   "execution_count": 1,
   "metadata": {},
   "outputs": [
    {
     "name": "stderr",
     "output_type": "stream",
     "text": [
      "\u001b[1m\u001b[36mINFO: \u001b[39m\u001b[22m\u001b[36mRecompiling stale cache file /Users/lucydot/.julia/lib/v0.6/YAML.ji for module YAML.\n",
      "\u001b[39m\u001b[1m\u001b[36mINFO: \u001b[39m\u001b[22m\u001b[36mRecompiling stale cache file /Users/lucydot/.julia/lib/v0.6/PyPlot.ji for module PyPlot.\n",
      "\u001b[39m\u001b[1m\u001b[36mInfo: \u001b[39m\u001b[22m\u001b[36mInstalling matplotlib via the Conda matplotlib package...\n",
      "\u001b[39m\u001b[1m\u001b[36mInfo: \u001b[39m\u001b[22m\u001b[36mRunning `conda install -y matplotlib` in root environment\n",
      "\u001b[39m/Users/lucydot/.julia/v0.6/Conda/deps/usr/lib/python2.7/site-packages/cryptography/hazmat/primitives/constant_time.py:26: CryptographyDeprecationWarning: Support for your Python version is deprecated. The next version of cryptography will remove support. Please upgrade to a 2.7.x release that supports hmac.compare_digest as soon as possible.\n",
      "  utils.DeprecatedIn23,\n"
     ]
    },
    {
     "name": "stdout",
     "output_type": "stream",
     "text": [
      "Solving environment: ...working... done\n",
      "\n",
      "# All requested packages already installed.\n",
      "\n"
     ]
    },
    {
     "ename": "LoadError",
     "evalue": "InitError: \u001b[91mPyError (PyImport_ImportModule\n\nThe Python package matplotlib could not be found by pyimport. Usually this means\nthat you did not install matplotlib in the Python version being used by PyCall.\n\nPyCall is currently configured to use the Julia-specific Python distribution\ninstalled by the Conda.jl package.  To install the matplotlib module, you can\nuse `pyimport_conda(\"matplotlib\", PKG)`, where PKG is the Anaconda\npackage the contains the module matplotlib, or alternatively you can use the\nConda package directly (via `using Conda` followed by `Conda.add` etcetera).\n\nAlternatively, if you want to use a different Python distribution on your\nsystem, such as a system-wide Python (as opposed to the Julia-specific Python),\nyou can re-configure PyCall with that Python.   As explained in the PyCall\ndocumentation, set ENV[\"PYTHON\"] to the path/name of the python executable\nyou want to use, run Pkg.build(\"PyCall\"), and re-launch Julia.\n\n) <type 'exceptions.ImportError'>\nImportError(\"\\nImporting the multiarray numpy extension module failed.  Most\\nlikely you are trying to import a failed build of numpy.\\nIf you're working with a numpy git repo, try `git clean -xdf` (removes all\\nfiles not under version control).  Otherwise reinstall numpy.\\n\\nOriginal error was: cannot import name multiarray\\n\",)\n  File \"/Users/lucydot/Library/Python/3.6/lib/python/site-packages/matplotlib/__init__.py\", line 127, in <module>\n    from . import cbook\n  File \"/Users/lucydot/Library/Python/3.6/lib/python/site-packages/matplotlib/cbook/__init__.py\", line 35, in <module>\n    import numpy as np\n  File \"/Users/lucydot/Library/Python/3.6/lib/python/site-packages/numpy/__init__.py\", line 142, in <module>\n    from . import add_newdocs\n  File \"/Users/lucydot/Library/Python/3.6/lib/python/site-packages/numpy/add_newdocs.py\", line 13, in <module>\n    from numpy.lib import add_newdoc\n  File \"/Users/lucydot/Library/Python/3.6/lib/python/site-packages/numpy/lib/__init__.py\", line 8, in <module>\n    from .type_check import *\n  File \"/Users/lucydot/Library/Python/3.6/lib/python/site-packages/numpy/lib/type_check.py\", line 11, in <module>\n    import numpy.core.numeric as _nx\n  File \"/Users/lucydot/Library/Python/3.6/lib/python/site-packages/numpy/core/__init__.py\", line 26, in <module>\n    raise ImportError(msg)\n\u001b[39m\nduring initialization of module PyPlot",
     "output_type": "error",
     "traceback": [
      "InitError: \u001b[91mPyError (PyImport_ImportModule\n\nThe Python package matplotlib could not be found by pyimport. Usually this means\nthat you did not install matplotlib in the Python version being used by PyCall.\n\nPyCall is currently configured to use the Julia-specific Python distribution\ninstalled by the Conda.jl package.  To install the matplotlib module, you can\nuse `pyimport_conda(\"matplotlib\", PKG)`, where PKG is the Anaconda\npackage the contains the module matplotlib, or alternatively you can use the\nConda package directly (via `using Conda` followed by `Conda.add` etcetera).\n\nAlternatively, if you want to use a different Python distribution on your\nsystem, such as a system-wide Python (as opposed to the Julia-specific Python),\nyou can re-configure PyCall with that Python.   As explained in the PyCall\ndocumentation, set ENV[\"PYTHON\"] to the path/name of the python executable\nyou want to use, run Pkg.build(\"PyCall\"), and re-launch Julia.\n\n) <type 'exceptions.ImportError'>\nImportError(\"\\nImporting the multiarray numpy extension module failed.  Most\\nlikely you are trying to import a failed build of numpy.\\nIf you're working with a numpy git repo, try `git clean -xdf` (removes all\\nfiles not under version control).  Otherwise reinstall numpy.\\n\\nOriginal error was: cannot import name multiarray\\n\",)\n  File \"/Users/lucydot/Library/Python/3.6/lib/python/site-packages/matplotlib/__init__.py\", line 127, in <module>\n    from . import cbook\n  File \"/Users/lucydot/Library/Python/3.6/lib/python/site-packages/matplotlib/cbook/__init__.py\", line 35, in <module>\n    import numpy as np\n  File \"/Users/lucydot/Library/Python/3.6/lib/python/site-packages/numpy/__init__.py\", line 142, in <module>\n    from . import add_newdocs\n  File \"/Users/lucydot/Library/Python/3.6/lib/python/site-packages/numpy/add_newdocs.py\", line 13, in <module>\n    from numpy.lib import add_newdoc\n  File \"/Users/lucydot/Library/Python/3.6/lib/python/site-packages/numpy/lib/__init__.py\", line 8, in <module>\n    from .type_check import *\n  File \"/Users/lucydot/Library/Python/3.6/lib/python/site-packages/numpy/lib/type_check.py\", line 11, in <module>\n    import numpy.core.numeric as _nx\n  File \"/Users/lucydot/Library/Python/3.6/lib/python/site-packages/numpy/core/__init__.py\", line 26, in <module>\n    raise ImportError(msg)\n\u001b[39m\nduring initialization of module PyPlot",
      "",
      "Stacktrace:",
      " [1] \u001b[1mpyimport\u001b[22m\u001b[22m\u001b[1m(\u001b[22m\u001b[22m::String\u001b[1m)\u001b[22m\u001b[22m at \u001b[1m/Users/lucydot/.julia/v0.6/PyCall/src/PyCall.jl:486\u001b[22m\u001b[22m",
      " [2] \u001b[1mpyimport_conda\u001b[22m\u001b[22m\u001b[1m(\u001b[22m\u001b[22m::String, ::String, ::String\u001b[1m)\u001b[22m\u001b[22m at \u001b[1m/Users/lucydot/.julia/v0.6/PyCall/src/PyCall.jl:656\u001b[22m\u001b[22m",
      " [3] \u001b[1m__init__\u001b[22m\u001b[22m\u001b[1m(\u001b[22m\u001b[22m\u001b[1m)\u001b[22m\u001b[22m at \u001b[1m/Users/lucydot/.julia/v0.6/PyPlot/src/init.jl:175\u001b[22m\u001b[22m",
      " [4] \u001b[1m_include_from_serialized\u001b[22m\u001b[22m\u001b[1m(\u001b[22m\u001b[22m::String\u001b[1m)\u001b[22m\u001b[22m at \u001b[1m./loading.jl:157\u001b[22m\u001b[22m",
      " [5] \u001b[1m_require_from_serialized\u001b[22m\u001b[22m\u001b[1m(\u001b[22m\u001b[22m::Int64, ::Symbol, ::String, ::Bool\u001b[1m)\u001b[22m\u001b[22m at \u001b[1m./loading.jl:200\u001b[22m\u001b[22m",
      " [6] \u001b[1m_require\u001b[22m\u001b[22m\u001b[1m(\u001b[22m\u001b[22m::Symbol\u001b[1m)\u001b[22m\u001b[22m at \u001b[1m./loading.jl:464\u001b[22m\u001b[22m",
      " [7] \u001b[1mrequire\u001b[22m\u001b[22m\u001b[1m(\u001b[22m\u001b[22m::Symbol\u001b[1m)\u001b[22m\u001b[22m at \u001b[1m./loading.jl:405\u001b[22m\u001b[22m",
      " [8] \u001b[1minclude_string\u001b[22m\u001b[22m\u001b[1m(\u001b[22m\u001b[22m::String, ::String\u001b[1m)\u001b[22m\u001b[22m at \u001b[1m./loading.jl:522\u001b[22m\u001b[22m"
     ]
    }
   ],
   "source": [
    "include(\"src/JuliaPhonons.jl\")\n",
    "using JuliaPhonons\n",
    "using PyPlot\n",
    "using PyCall\n"
   ]
  },
  {
   "cell_type": "code",
   "execution_count": 7,
   "metadata": {},
   "outputs": [
    {
     "name": "stderr",
     "output_type": "stream",
     "text": [
      "[12.5743 0.000853903 0.137524; 0.000141603 12.4741 -0.000835312; 0.138595 -1.31954e-5 12.7567]\n",
      "Volume: 2000.6757668208738\n",
      "SubString{String}[\"C\", \"N\", \"H\", \"Pb\", \"I\"]\n",
      "POSCAR.natoms: 97\n",
      "AbstractString[\"C\", \"C\", \"C\", \"C\", \"C\", \"C\", \"C\", \"C\", \"N\", \"N\", \"N\", \"N\", \"N\", \"N\", \"N\", \"N\", \"H\", \"H\", \"H\", \"H\", \"H\", \"H\", \"H\", \"H\", \"H\", \"H\", \"H\", \"H\", \"H\", \"H\", \"H\", \"H\", \"H\", \"H\", \"H\", \"H\", \"H\", \"H\", \"H\", \"H\", \"H\", \"H\", \"H\", \"H\", \"H\", \"H\", \"H\", \"H\", \"H\", \"H\", \"H\", \"H\", \"H\", \"H\", \"H\", \"H\", \"H\", \"H\", \"H\", \"H\", \"H\", \"H\", \"H\", \"H\", \"Pb\", \"Pb\", \"Pb\", \"Pb\", \"Pb\", \"Pb\", \"Pb\", \"Pb\", \"I\", \"I\", \"I\", \"I\", \"I\", \"I\", \"I\", \"I\", \"I\", \"I\", \"I\", \"I\", \"I\", \"I\", \"I\", \"I\", \"I\", \"I\", \"I\", \"I\", \"I\", \"I\", \"I\", \"I\", \"I\"]\n",
      "supercellexpansions ==>Array{Float64,1}[[0.0, 0.0, 0.0]]\n",
      "[12.5743 0.000853903 0.137524; 0.000141603 12.4741 -0.000835312; 0.138595 -1.31954e-5 12.7567]\n",
      "Volume: 2000.6757668208738\n",
      "SubString{String}[\"C\", \"N\", \"H\", \"Pb\", \"I\"]\n",
      "POSCAR.natoms: 97\n",
      "AbstractString[\"C\", \"C\", \"C\", \"C\", \"C\", \"C\", \"C\", \"C\", \"N\", \"N\", \"N\", \"N\", \"N\", \"N\", \"N\", \"N\", \"H\", \"H\", \"H\", \"H\", \"H\", \"H\", \"H\", \"H\", \"H\", \"H\", \"H\", \"H\", \"H\", \"H\", \"H\", \"H\", \"H\", \"H\", \"H\", \"H\", \"H\", \"H\", \"H\", \"H\", \"H\", \"H\", \"H\", \"H\", \"H\", \"H\", \"H\", \"H\", \"H\", \"H\", \"H\", \"H\", \"H\", \"H\", \"H\", \"H\", \"H\", \"H\", \"H\", \"H\", \"H\", \"H\", \"H\", \"H\", \"Pb\", \"Pb\", \"Pb\", \"Pb\", \"Pb\", \"Pb\", \"Pb\", \"Pb\", \"I\", \"I\", \"I\", \"I\", \"I\", \"I\", \"I\", \"I\", \"I\", \"I\", \"I\", \"I\", \"I\", \"I\", \"I\", \"I\", \"I\", \"I\", \"I\", \"I\", \"I\", \"I\", \"I\", \"I\", \"I\"]\n",
      "supercellexpansions ==>Array{Float64,1}[[0.0, 0.0, 0.0]]\n"
     ]
    },
    {
     "data": {
      "text/plain": [
       "(Any[[0.0295856 -0.0357804 0.0132983; 0.0298501 -0.0359258 0.0136408; … ; 0.0962323 -0.117106 0.043828; 0.0962382 -0.116914 0.0456438], [0.016442 0.0275918 0.0364581; 0.0164723 0.0275497 0.0364279; … ; 0.0540134 0.0896803 0.118267; 0.054125 0.089651 0.118462], [0.0347007 0.0175664 -0.0290669; 0.0347265 0.0175828 -0.0292186; … ; 0.113067 0.0569578 -0.094388; 0.113058 0.0569159 -0.0944499], [-0.0223523 -0.0235597 0.000910907; -0.0136128 -0.015645 0.0413655; … ; -0.0274621 0.0505526 -0.0728979; 0.000746735 0.0259993 0.0102076], [-0.00642863 0.0365534 0.0283027; -0.00853109 -0.0144427 -0.0171581; … ; 0.0223064 -0.00867779 -0.0198539; 0.0381864 0.000521586 0.331415], [-0.0229039 -0.00815617 0.0111612; 0.00475894 0.00918921 -0.000793227; … ; 0.0841561 -0.00800914 0.116315; 0.0915316 0.000347784 -0.0207839], [-0.0248397 -0.00162594 0.0609371; 0.00784605 -0.00257302 -0.0129772; … ; 0.00254378 -0.203703 -0.105275; -0.000635289 -0.037887 -0.00375822], [-0.0219231 -0.0181482 0.00988558; -0.0152324 0.00174528 -0.0400027; … ; -0.0351653 3.70446e-6 0.0686568; -0.03231 0.000957951 0.183685], [-0.0183765 -0.0299566 -0.0396041; 0.00233457 -0.0282138 -0.00989345; … ; -0.0378682 0.156875 0.0644503; -0.00103654 0.0909402 0.00170867], [-0.0280392 -0.00304621 -0.0331423; -0.0316308 -0.0118056 -0.00536172; … ; -0.0368586 -0.0236989 -0.161426; 0.0120236 -0.00244149 0.036033]  …  [-0.000102319 9.93091e-5 -5.47973e-5; -0.000223678 -0.000200687 -0.000465278; … ; -3.8553e-5 -3.49695e-5 1.21515e-5; 1.84523e-6 -7.34232e-5 6.00513e-7], [2.36983e-5 7.85074e-7 4.02718e-5; -1.39544e-5 -3.25863e-5 -8.2671e-5; … ; 2.98122e-5 2.63858e-5 -2.31089e-5; -1.80073e-6 2.08607e-6 -7.53572e-7], [-0.000142759 0.000393706 -0.000193809; 0.000407605 0.000259538 0.000940013; … ; -0.000131397 -7.51116e-5 2.88327e-6; 0.000149456 -2.10846e-6 -6.04384e-5], [0.000184509 0.000559107 0.000126985; -0.000320702 -0.000421406 -0.000821872; … ; -9.45313e-5 -0.000110906 2.64152e-5; -6.4087e-7 -0.000296201 -1.28167e-6], [-0.00059758 -0.000839881 -0.000383672; 3.48282e-5 -0.0001567 0.000196491; … ; 1.09749e-5 -1.6965e-5 -1.00697e-5; -6.29256e-5 6.20596e-6 -5.26918e-5], [0.00534249 0.0110017 0.00257424; -4.01589e-5 0.000217215 3.70368e-5; … ; 8.35392e-5 0.000169745 0.000215447; -3.32399e-6 2.42512e-5 1.99676e-6], [-0.000243878 -0.000331419 5.03857e-5; -0.000398295 -0.000548162 -0.000989261; … ; 0.000151667 6.63668e-5 -7.85084e-6; -3.49152e-5 -1.3291e-5 -6.59332e-6], [0.00421728 0.0103819 0.00243401; 7.16256e-5 -0.000795408 -3.82442e-6; … ; -9.39167e-6 -0.000131279 -0.00017188; -6.27993e-5 -1.43119e-6 5.4382e-5], [-0.000143224 -1.42498e-5 -8.11077e-5; -0.00183822 -0.0109903 -0.000409134; … ; 1.03751e-6 2.33541e-5 -1.54219e-6; 1.73887e-6 2.14606e-5 9.62805e-7], [7.71203e-5 0.000413138 2.48506e-5; 0.00208678 0.0117742 0.00045891; … ; -2.92296e-5 -1.43378e-5 1.56537e-6; 4.10044e-5 -7.95273e-7 2.45689e-5]], [-0.00495675, -0.00159766, -0.00015613, 0.246591, 0.30966, 0.393097, 0.48534, 0.511647, 0.532928, 0.540109  …  93.9753, 94.2163, 94.3255, 94.653, 94.7089, 94.823, 94.9149, 95.11, 96.4143, 96.5109])"
      ]
     },
     "execution_count": 7,
     "metadata": {},
     "output_type": "execute_result"
    }
   ],
   "source": [
    "poscar_neutral = JuliaPhonons.read_POSCAR(open(\"./examples/MAPI_H_centre/neutral_POSCAR\"))\n",
    "poscar_negative = JuliaPhonons.read_POSCAR(open(\"./examples/MAPI_H_centre/negative_POSCAR\"))\n",
    "phonons_neutral = JuliaPhonons.read_meshyaml(open(\"./examples/MAPI_H_centre/neutral_mesh.yaml\"),poscar_neutral)\n",
    "phonons_negative = JuliaPhonons.read_meshyaml(open(\"./examples/MAPI_H_centre/negative_mesh.yaml\"),poscar_negative)\n"
   ]
  },
  {
   "cell_type": "code",
   "execution_count": 8,
   "metadata": {},
   "outputs": [],
   "source": [
    "displacement = poscar_negative.positions - poscar_neutral.positions\n",
    "\n",
    "projections = []\n",
    "for eigenvector in phonons_negative[1]\n",
    "    push!(projections,dot(displacement,eigenvector))\n",
    "end"
   ]
  },
  {
   "cell_type": "code",
   "execution_count": 13,
   "metadata": {},
   "outputs": [
    {
     "data": {
      "text/plain": [
       "291-element Array{Float64,1}:\n",
       " 0.0230112  \n",
       " 0.10598    \n",
       " 0.0471436  \n",
       " 0.462419   \n",
       " 0.0973334  \n",
       " 0.00812754 \n",
       " 0.115543   \n",
       " 0.00239058 \n",
       " 0.000727367\n",
       " 0.015989   \n",
       " 0.0539531  \n",
       " 4.04482e-6 \n",
       " 0.181475   \n",
       " ⋮          \n",
       " 0.000215364\n",
       " 5.77963e-5 \n",
       " 0.000563544\n",
       " 0.00030412 \n",
       " 0.00114344 \n",
       " 0.00140864 \n",
       " 0.00131329 \n",
       " 0.000479261\n",
       " 0.00495696 \n",
       " 0.000584427\n",
       " 2.17064e-5 \n",
       " 0.0032281  "
      ]
     },
     "execution_count": 13,
     "metadata": {},
     "output_type": "execute_result"
    }
   ],
   "source": [
    "projections.*projections"
   ]
  },
  {
   "cell_type": "code",
   "execution_count": 25,
   "metadata": {},
   "outputs": [
    {
     "ename": "LoadError",
     "evalue": "\u001b[91mArgumentError: haskey of NULL PyObject\u001b[39m",
     "output_type": "error",
     "traceback": [
      "\u001b[91mArgumentError: haskey of NULL PyObject\u001b[39m",
      "",
      "Stacktrace:",
      " [1] \u001b[1mhaskey\u001b[22m\u001b[22m\u001b[1m(\u001b[22m\u001b[22m::PyCall.PyObject, ::String\u001b[1m)\u001b[22m\u001b[22m at \u001b[1m/Users/lucydot/.julia/v0.6/PyCall/src/PyCall.jl:268\u001b[22m\u001b[22m",
      " [2] \u001b[1m#bar#19\u001b[22m\u001b[22m\u001b[1m(\u001b[22m\u001b[22m::Array{Any,1}, ::Function, ::UnitRange{Int64}, ::Vararg{Any,N} where N\u001b[1m)\u001b[22m\u001b[22m at \u001b[1m/Users/lucydot/.julia/v0.6/PyPlot/src/PyPlot.jl:168\u001b[22m\u001b[22m",
      " [3] \u001b[1mbar\u001b[22m\u001b[22m\u001b[1m(\u001b[22m\u001b[22m::UnitRange{Int64}, ::Array{Float64,1}\u001b[1m)\u001b[22m\u001b[22m at \u001b[1m/Users/lucydot/.julia/v0.6/PyPlot/src/PyPlot.jl:168\u001b[22m\u001b[22m",
      " [4] \u001b[1minclude_string\u001b[22m\u001b[22m\u001b[1m(\u001b[22m\u001b[22m::String, ::String\u001b[1m)\u001b[22m\u001b[22m at \u001b[1m./loading.jl:522\u001b[22m\u001b[22m"
     ]
    }
   ],
   "source": [
    "PyPlot.bar(1:3*poscar_negative.natoms,projections.*projections)\n",
    "#PyPlot.xlabel(\"Phonon mode\")"
   ]
  },
  {
   "cell_type": "code",
   "execution_count": 21,
   "metadata": {},
   "outputs": [
    {
     "ename": "BoundsError",
     "evalue": "\u001b[91mBoundsError: attempt to access \"distri\"\n  at index [0]\u001b[39m",
     "output_type": "error",
     "traceback": [
      "KERNEL EXCEPTION",
      "\u001b[91mBoundsError: attempt to access \"distri\"\n  at index [0]\u001b[39m",
      "",
      "Stacktrace:",
      " [1] \u001b[1mnext\u001b[22m\u001b[22m at \u001b[1m./strings/string.jl:197\u001b[22m\u001b[22m [inlined]",
      " [2] \u001b[1mgetindex\u001b[22m\u001b[22m\u001b[1m(\u001b[22m\u001b[22m::String, ::Int64\u001b[1m)\u001b[22m\u001b[22m at \u001b[1m./strings/basic.jl:32\u001b[22m\u001b[22m",
      " [3] \u001b[1mind2chr\u001b[22m\u001b[22m\u001b[1m(\u001b[22m\u001b[22m::String, ::Int64\u001b[1m)\u001b[22m\u001b[22m at \u001b[1m./strings/basic.jl:269\u001b[22m\u001b[22m",
      " [4] \u001b[1mind2chr\u001b[22m\u001b[22m\u001b[1m(\u001b[22m\u001b[22m::IJulia.Msg, ::String, ::Int64\u001b[1m)\u001b[22m\u001b[22m at \u001b[1m/Users/lw827/.julia/v0.6/IJulia/src/handlers.jl:50\u001b[22m\u001b[22m",
      " [5] \u001b[1mcomplete_request\u001b[22m\u001b[22m\u001b[1m(\u001b[22m\u001b[22m::ZMQ.Socket, ::IJulia.Msg\u001b[1m)\u001b[22m\u001b[22m at \u001b[1m/Users/lw827/.julia/v0.6/IJulia/src/handlers.jl:76\u001b[22m\u001b[22m",
      " [6] \u001b[1meventloop\u001b[22m\u001b[22m\u001b[1m(\u001b[22m\u001b[22m::ZMQ.Socket\u001b[1m)\u001b[22m\u001b[22m at \u001b[1m/Users/lw827/.julia/v0.6/IJulia/src/eventloop.jl:8\u001b[22m\u001b[22m",
      " [7] \u001b[1m(::IJulia.##14#17)\u001b[22m\u001b[22m\u001b[1m(\u001b[22m\u001b[22m\u001b[1m)\u001b[22m\u001b[22m at \u001b[1m./task.jl:335\u001b[22m\u001b[22m"
     ]
    }
   ],
   "source": [
    "distribution_function = []\n",
    "for neut_mode in phonons_neutral[1]\n",
    "    for neg_mode in phonons_negative[1]\n",
    "    push!(distribution_function,dot(neut_mode,neg_mode).*dot(neut_mode,neg_mode))\n",
    "    end\n",
    "end"
   ]
  },
  {
   "cell_type": "code",
   "execution_count": 29,
   "metadata": {},
   "outputs": [
    {
     "data": {
      "text/plain": [
       "291×291 Array{Any,2}:\n",
       " 2.67578e-7   0.364643     6.49538e-5   …  7.14937e-11  1.65079e-12\n",
       " 9.24254e-9   0.46886      0.267407        8.72513e-11  3.14329e-10\n",
       " 3.61811e-8   0.166485     0.732525        6.77958e-12  5.52118e-11\n",
       " 0.0292077    6.69461e-7   1.50492e-9      4.05006e-7   0.00016245 \n",
       " 0.0109813    8.41929e-7   8.08201e-7      4.36769e-5   2.4063e-7  \n",
       " 0.00219297   2.42571e-7   8.77881e-7   …  8.37067e-6   1.8654e-5  \n",
       " 0.00884892   6.65466e-7   6.48152e-9      1.41476e-5   2.29365e-5 \n",
       " 0.00506396   3.6485e-8    5.70195e-11     2.86278e-5   6.83268e-5 \n",
       " 0.010684     7.33569e-9   8.17341e-9      2.84863e-5   1.5066e-7  \n",
       " 0.000399789  2.45739e-10  4.78504e-8      8.68955e-6   3.40406e-7 \n",
       " 5.99814e-5   1.18147e-8   1.07367e-7   …  4.62962e-6   4.18371e-6 \n",
       " 9.1087e-5    4.04304e-7   5.29486e-8      1.37814e-5   3.77568e-6 \n",
       " 9.23825e-7   3.50915e-11  1.37067e-8      2.9603e-6    2.09921e-5 \n",
       " ⋮                                      ⋱               ⋮          \n",
       " 5.40418e-8   9.68842e-12  1.5059e-11      0.00850881   4.58494e-7 \n",
       " 1.96951e-6   2.62891e-11  7.73587e-12  …  0.00645287   3.11661e-5 \n",
       " 2.40496e-6   2.13261e-10  1.32284e-10     3.69269e-5   1.83251e-10\n",
       " 2.61704e-8   1.85539e-12  2.7867e-12      0.0139906    2.58295e-6 \n",
       " 4.23576e-7   2.86749e-10  8.24747e-11     0.00013019   0.000297904\n",
       " 1.18767e-6   1.49372e-10  1.46424e-11     3.15718e-5   2.1208e-5  \n",
       " 3.22405e-7   2.53514e-12  2.90439e-12  …  0.0150561    7.35891e-7 \n",
       " 9.43545e-6   2.88782e-10  1.43489e-11     6.6793e-5    2.21759e-6 \n",
       " 1.05364e-6   2.6015e-10   6.85787e-14     0.000480249  0.000671412\n",
       " 1.04698e-5   1.81407e-10  1.83232e-11     9.17088e-6   1.19463e-5 \n",
       " 0.0045344    1.56569e-11  1.65363e-10     2.31714e-5   0.00435253 \n",
       " 0.00527719   1.21329e-11  2.73189e-10  …  1.55866e-6   0.00754043 "
      ]
     },
     "execution_count": 29,
     "metadata": {},
     "output_type": "execute_result"
    }
   ],
   "source": [
    "distribution_function = reshape(distribution_function,3*poscar_negative.natoms,3*poscar_neutral.natoms)"
   ]
  },
  {
   "cell_type": "code",
   "execution_count": 81,
   "metadata": {},
   "outputs": [
    {
     "data": {
      "image/png": "[encoded data removed]",
      "text/plain": [
       "PyPlot.Figure(PyObject <Figure size 640x480 with 1 Axes>)"
      ]
     },
     "metadata": {},
     "output_type": "display_data"
    },
    {
     "data": {
      "text/plain": [
       "PyObject Text(0.5,1,'Neutral phonon mode: 2')"
      ]
     },
     "execution_count": 81,
     "metadata": {},
     "output_type": "execute_result"
    }
   ],
   "source": [
    "i=2\n",
    "PyPlot.bar(1:3*poscar_negative.natoms,distribution_function[:,i])\n",
    "PyPlot.xlabel(\"negative phonon mode\")\n",
    "PyPlot.title(string(\"Neutral phonon mode: \",i))"
   ]
  },
  {
   "cell_type": "code",
   "execution_count": 89,
   "metadata": {},
   "outputs": [
    {
     "ename": "LoadError",
     "evalue": "\u001b[91mPyError (ccall(@pysym(:PyObject_Call), PyPtr, (PyPtr, PyPtr, PyPtr), o, arg, C_NULL)) <type 'exceptions.TypeError'>\nTypeError('bar3d() takes at least 7 arguments (4 given)',)\n\u001b[39m",
     "output_type": "error",
     "traceback": [
      "\u001b[91mPyError (ccall(@pysym(:PyObject_Call), PyPtr, (PyPtr, PyPtr, PyPtr), o, arg, C_NULL)) <type 'exceptions.TypeError'>\nTypeError('bar3d() takes at least 7 arguments (4 given)',)\n\u001b[39m",
      "",
      "Stacktrace:",
      " [1] \u001b[1mpyerr_check\u001b[22m\u001b[22m at \u001b[1m/Users/lw827/.julia/v0.6/PyCall/src/exception.jl:56\u001b[22m\u001b[22m [inlined]",
      " [2] \u001b[1mpyerr_check\u001b[22m\u001b[22m at \u001b[1m/Users/lw827/.julia/v0.6/PyCall/src/exception.jl:61\u001b[22m\u001b[22m [inlined]",
      " [3] \u001b[1mmacro expansion\u001b[22m\u001b[22m at \u001b[1m/Users/lw827/.julia/v0.6/PyCall/src/exception.jl:81\u001b[22m\u001b[22m [inlined]",
      " [4] \u001b[1m#_pycall#66\u001b[22m\u001b[22m\u001b[1m(\u001b[22m\u001b[22m::Array{Any,1}, ::Function, ::PyCall.PyObject, ::UnitRange{Int64}, ::Vararg{Any,N} where N\u001b[1m)\u001b[22m\u001b[22m at \u001b[1m/Users/lw827/.julia/v0.6/PyCall/src/PyCall.jl:596\u001b[22m\u001b[22m",
      " [5] \u001b[1m_pycall\u001b[22m\u001b[22m\u001b[1m(\u001b[22m\u001b[22m::PyCall.PyObject, ::UnitRange{Int64}, ::Vararg{Any,N} where N\u001b[1m)\u001b[22m\u001b[22m at \u001b[1m/Users/lw827/.julia/v0.6/PyCall/src/PyCall.jl:584\u001b[22m\u001b[22m",
      " [6] \u001b[1m#pycall#70\u001b[22m\u001b[22m\u001b[1m(\u001b[22m\u001b[22m::Array{Any,1}, ::Function, ::PyCall.PyObject, ::Type{PyCall.PyAny}, ::UnitRange{Int64}, ::Vararg{Any,N} where N\u001b[1m)\u001b[22m\u001b[22m at \u001b[1m/Users/lw827/.julia/v0.6/PyCall/src/PyCall.jl:618\u001b[22m\u001b[22m",
      " [7] \u001b[1mpycall\u001b[22m\u001b[22m\u001b[1m(\u001b[22m\u001b[22m::PyCall.PyObject, ::Type{PyCall.PyAny}, ::UnitRange{Int64}, ::Vararg{Any,N} where N\u001b[1m)\u001b[22m\u001b[22m at \u001b[1m/Users/lw827/.julia/v0.6/PyCall/src/PyCall.jl:618\u001b[22m\u001b[22m",
      " [8] \u001b[1m#bar3d#165\u001b[22m\u001b[22m\u001b[1m(\u001b[22m\u001b[22m::Array{Any,1}, ::Function, ::UnitRange{Int64}, ::Vararg{Any,N} where N\u001b[1m)\u001b[22m\u001b[22m at \u001b[1m/Users/lw827/.julia/v0.6/PyPlot/src/PyPlot.jl:233\u001b[22m\u001b[22m",
      " [9] \u001b[1mbar3d\u001b[22m\u001b[22m\u001b[1m(\u001b[22m\u001b[22m::UnitRange{Int64}, ::Vararg{Any,N} where N\u001b[1m)\u001b[22m\u001b[22m at \u001b[1m/Users/lw827/.julia/v0.6/PyPlot/src/PyPlot.jl:232\u001b[22m\u001b[22m",
      " [10] \u001b[1mbar3D\u001b[22m\u001b[22m\u001b[1m(\u001b[22m\u001b[22m::UnitRange{Int64}, ::Vararg{Any,N} where N\u001b[1m)\u001b[22m\u001b[22m at \u001b[1m/Users/lw827/.julia/v0.6/PyPlot/src/PyPlot.jl:241\u001b[22m\u001b[22m",
      " [11] \u001b[1minclude_string\u001b[22m\u001b[22m\u001b[1m(\u001b[22m\u001b[22m::String, ::String\u001b[1m)\u001b[22m\u001b[22m at \u001b[1m./loading.jl:515\u001b[22m\u001b[22m"
     ]
    }
   ],
   "source": [
    "PyPlot.bar3D(1:3*poscar_negative.natoms,1:3*poscar_neutral.natoms,[0]*3*poscar_neutral.natoms,[0.01]*3*poscar_neutral.natomsdistribution_function,)"
   ]
  },
  {
   "cell_type": "code",
   "execution_count": 80,
   "metadata": {},
   "outputs": [
    {
     "data": {
      "image/png": "[encoded data removed]",
      "text/plain": [
       "PyPlot.Figure(PyObject <Figure size 640x480 with 1 Axes>)"
      ]
     },
     "metadata": {},
     "output_type": "display_data"
    },
    {
     "data": {
      "text/plain": [
       "PyObject Text(0.5,24,'neutral phonon mode')"
      ]
     },
     "execution_count": 80,
     "metadata": {},
     "output_type": "execute_result"
    }
   ],
   "source": [
    "g = []\n",
    "for i in poscar_neutral.natoms\n",
    "    push!(g,maximum(1 ./ distribution_function[:,i]))\n",
    "    end\n",
    "PyPlot.bar(1:3*poscar_neutral.natoms,g)\n",
    "PyPlot.xlabel(\"neutral phonon mode\")"
   ]
  },
  {
   "cell_type": "code",
   "execution_count": 78,
   "metadata": {},
   "outputs": [
    {
     "data": {
      "text/plain": [
       "3.5143125031744847e9"
      ]
     },
     "execution_count": 78,
     "metadata": {},
     "output_type": "execute_result"
    }
   ],
   "source": [
    "maximum(1 ./ distribution_function[:,i])"
   ]
  },
  {
   "cell_type": "code",
   "execution_count": null,
   "metadata": {},
   "outputs": [],
   "source": []
  }
 ],
 "metadata": {
  "kernelspec": {
   "display_name": "Julia 0.6.2",
   "language": "julia",
   "name": "julia-0.6"
  },
  "language_info": {
   "file_extension": ".jl",
   "mimetype": "application/julia",
   "name": "julia",
   "version": "0.6.2"
  }
 },
 "nbformat": 4,
 "nbformat_minor": 2
}
