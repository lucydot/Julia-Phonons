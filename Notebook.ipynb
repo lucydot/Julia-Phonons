{
 "cells": [
  {
   "cell_type": "code",
   "execution_count": 11,
   "metadata": {},
   "outputs": [
    {
     "name": "stderr",
     "output_type": "stream",
     "text": [
      "┌ Warning: Deprecated syntax `type` at /Users/lucydot/Projects/2018_JuliaPhonons/src/JuliaPhonons.jl:19.\n",
      "│ Use `mutable struct` instead.\n",
      "└ @ nothing /Users/lucydot/Projects/2018_JuliaPhonons/src/JuliaPhonons.jl:19\n",
      "WARNING: replacing module JuliaPhonons.\n",
      "WARNING: importing deprecated binding Base.@sprintf into JuliaPhonons.\n",
      "WARNING: Base.@sprintf is deprecated: it has been moved to the standard library package `Printf`.\n",
      "Add `using Printf` to your imports.\n",
      "  likely near /Users/lucydot/Projects/2018_JuliaPhonons/src/JuliaPhonons.jl:96\n",
      "WARNING: importing deprecated binding Base.@printf into JuliaPhonons.\n",
      "WARNING: Base.@printf is deprecated: it has been moved to the standard library package `Printf`.\n",
      "Add `using Printf` to your imports.\n",
      "  likely near /Users/lucydot/Projects/2018_JuliaPhonons/src/JuliaPhonons.jl:96\n",
      "WARNING: Base.@printf is deprecated: it has been moved to the standard library package `Printf`.\n",
      "Add `using Printf` to your imports.\n",
      "  likely near /Users/lucydot/Projects/2018_JuliaPhonons/src/JuliaPhonons.jl:96\n",
      "WARNING: Base.@sprintf is deprecated: it has been moved to the standard library package `Printf`.\n",
      "Add `using Printf` to your imports.\n",
      "  likely near /Users/lucydot/Projects/2018_JuliaPhonons/src/JuliaPhonons.jl:122\n",
      "WARNING: Base.@sprintf is deprecated: it has been moved to the standard library package `Printf`.\n",
      "Add `using Printf` to your imports.\n",
      "  likely near /Users/lucydot/Projects/2018_JuliaPhonons/src/JuliaPhonons.jl:122\n",
      "WARNING: Base.@printf is deprecated: it has been moved to the standard library package `Printf`.\n",
      "Add `using Printf` to your imports.\n",
      "  likely near /Users/lucydot/Projects/2018_JuliaPhonons/src/JuliaPhonons.jl:122\n",
      "WARNING: Base.@printf is deprecated: it has been moved to the standard library package `Printf`.\n",
      "Add `using Printf` to your imports.\n",
      "  likely near /Users/lucydot/Projects/2018_JuliaPhonons/src/JuliaPhonons.jl:122\n",
      "WARNING: Base.@printf is deprecated: it has been moved to the standard library package `Printf`.\n",
      "Add `using Printf` to your imports.\n",
      "  likely near /Users/lucydot/Projects/2018_JuliaPhonons/src/JuliaPhonons.jl:122\n",
      "WARNING: Base.@printf is deprecated: it has been moved to the standard library package `Printf`.\n",
      "Add `using Printf` to your imports.\n",
      "  likely near /Users/lucydot/Projects/2018_JuliaPhonons/src/JuliaPhonons.jl:192\n",
      "WARNING: Base.@printf is deprecated: it has been moved to the standard library package `Printf`.\n",
      "Add `using Printf` to your imports.\n",
      "  likely near /Users/lucydot/Projects/2018_JuliaPhonons/src/JuliaPhonons.jl:192\n",
      "WARNING: Base.@printf is deprecated: it has been moved to the standard library package `Printf`.\n",
      "Add `using Printf` to your imports.\n",
      "  likely near /Users/lucydot/Projects/2018_JuliaPhonons/src/JuliaPhonons.jl:192\n",
      "WARNING: Base.@printf is deprecated: it has been moved to the standard library package `Printf`.\n",
      "Add `using Printf` to your imports.\n",
      "  likely near /Users/lucydot/Projects/2018_JuliaPhonons/src/JuliaPhonons.jl:192\n",
      "WARNING: Base.@printf is deprecated: it has been moved to the standard library package `Printf`.\n",
      "Add `using Printf` to your imports.\n",
      "  likely near /Users/lucydot/Projects/2018_JuliaPhonons/src/JuliaPhonons.jl:227\n",
      "WARNING: Base.@printf is deprecated: it has been moved to the standard library package `Printf`.\n",
      "Add `using Printf` to your imports.\n",
      "  likely near /Users/lucydot/Projects/2018_JuliaPhonons/src/JuliaPhonons.jl:227\n",
      "WARNING: Base.@printf is deprecated: it has been moved to the standard library package `Printf`.\n",
      "Add `using Printf` to your imports.\n",
      "  likely near /Users/lucydot/Projects/2018_JuliaPhonons/src/JuliaPhonons.jl:227\n",
      "┌ Info: Precompiling PyPlot [d330b81b-6aea-500a-939a-2ce795aea3ee]\n",
      "└ @ Base loading.jl:1187\n",
      "┌ Info: Installing matplotlib via the Conda matplotlib package...\n",
      "└ @ PyCall /Users/lucydot/.julia/packages/PyCall/ttONZ/src/PyCall.jl:705\n",
      "┌ Info: Running `conda install -y matplotlib` in root environment\n",
      "└ @ Conda /Users/lucydot/.julia/packages/Conda/kLXeC/src/Conda.jl:112\n"
     ]
    },
    {
     "name": "stdout",
     "output_type": "stream",
     "text": [
      "Collecting package metadata (current_repodata.json): ...working... done\n",
      "Solving environment: ...working... done\n",
      "\n",
      "## Package Plan ##\n",
      "\n",
      "  environment location: /Users/lucydot/.julia/conda/3\n",
      "\n",
      "  added / updated specs:\n",
      "    - matplotlib\n",
      "\n",
      "\n",
      "The following packages will be downloaded:\n",
      "\n",
      "    package                    |            build\n",
      "    ---------------------------|-----------------\n",
      "    cycler-0.10.0              |           py37_0          14 KB\n",
      "    freetype-2.9.1             |       hb4e5f40_0         555 KB\n",
      "    kiwisolver-1.1.0           |   py37h0a44026_0          54 KB\n",
      "    libpng-1.6.37              |       ha441bb4_0         262 KB\n",
      "    matplotlib-3.1.1           |   py37h54f8f79_0         4.9 MB\n",
      "    pyparsing-2.4.2            |             py_0          61 KB\n",
      "    python-dateutil-2.8.0      |           py37_0         265 KB\n",
      "    pytz-2019.3                |             py_0         231 KB\n",
      "    tornado-6.0.3              |   py37h1de35cc_0         590 KB\n",
      "    ------------------------------------------------------------\n",
      "                                           Total:         6.9 MB\n",
      "\n",
      "The following NEW packages will be INSTALLED:\n",
      "\n",
      "  cycler             pkgs/main/osx-64::cycler-0.10.0-py37_0\n",
      "  freetype           pkgs/main/osx-64::freetype-2.9.1-hb4e5f40_0\n",
      "  kiwisolver         pkgs/main/osx-64::kiwisolver-1.1.0-py37h0a44026_0\n",
      "  libpng             pkgs/main/osx-64::libpng-1.6.37-ha441bb4_0\n",
      "  matplotlib         pkgs/main/osx-64::matplotlib-3.1.1-py37h54f8f79_0\n",
      "  pyparsing          pkgs/main/noarch::pyparsing-2.4.2-py_0\n",
      "  python-dateutil    pkgs/main/osx-64::python-dateutil-2.8.0-py37_0\n",
      "  pytz               pkgs/main/noarch::pytz-2019.3-py_0\n",
      "  tornado            pkgs/main/osx-64::tornado-6.0.3-py37h1de35cc_0\n",
      "\n",
      "\n",
      "\n",
      "Downloading and Extracting Packages\n",
      "libpng-1.6.37        | 262 KB    | ########## | 100% \n",
      "freetype-2.9.1       | 555 KB    | ########## | 100% \n",
      "matplotlib-3.1.1     | 4.9 MB    | ########## | 100% \n",
      "cycler-0.10.0        | 14 KB     | ########## | 100% \n",
      "kiwisolver-1.1.0     | 54 KB     | ########## | 100% \n",
      "python-dateutil-2.8. | 265 KB    | ########## | 100% \n",
      "pytz-2019.3          | 231 KB    | ########## | 100% \n",
      "tornado-6.0.3        | 590 KB    | ########## | 100% \n",
      "pyparsing-2.4.2      | 61 KB     | ########## | 100% \n",
      "Preparing transaction: ...working... done\n",
      "Verifying transaction: ...working... done\n",
      "Executing transaction: ...working... done\n"
     ]
    },
    {
     "name": "stderr",
     "output_type": "stream",
     "text": [
      "┌ Info: Installing pyqt package to avoid buggy tkagg backend.\n",
      "└ @ PyPlot /Users/lucydot/.julia/packages/PyPlot/4wzW1/src/init.jl:118\n",
      "┌ Info: Installing PyQt5 via the Conda pyqt package...\n",
      "└ @ PyCall /Users/lucydot/.julia/packages/PyCall/ttONZ/src/PyCall.jl:705\n",
      "┌ Info: Running `conda install -y pyqt` in root environment\n",
      "└ @ Conda /Users/lucydot/.julia/packages/Conda/kLXeC/src/Conda.jl:112\n"
     ]
    },
    {
     "name": "stdout",
     "output_type": "stream",
     "text": [
      "Collecting package metadata (current_repodata.json): ...working... done\n",
      "Solving environment: ...working... done\n",
      "\n",
      "## Package Plan ##\n",
      "\n",
      "  environment location: /Users/lucydot/.julia/conda/3\n",
      "\n",
      "  added / updated specs:\n",
      "    - pyqt\n",
      "\n",
      "\n",
      "The following packages will be downloaded:\n",
      "\n",
      "    package                    |            build\n",
      "    ---------------------------|-----------------\n",
      "    dbus-1.13.6                |       h90a0687_0         445 KB\n",
      "    expat-2.2.6                |       h0a44026_0         111 KB\n",
      "    gettext-0.19.8.1           |       h15daf44_3         2.6 MB\n",
      "    glib-2.56.2                |       hd9629dc_0         3.7 MB\n",
      "    icu-58.2                   |       h4b95b61_1        10.1 MB\n",
      "    jpeg-9b                    |       he5867d9_2         201 KB\n",
      "    pcre-8.43                  |       h0a44026_0         185 KB\n",
      "    pyqt-5.9.2                 |   py37h655552a_2         3.6 MB\n",
      "    qt-5.9.7                   |       h468cd18_1        62.0 MB\n",
      "    sip-4.19.8                 |   py37h0a44026_0         237 KB\n",
      "    ------------------------------------------------------------\n",
      "                                           Total:        83.2 MB\n",
      "\n",
      "The following NEW packages will be INSTALLED:\n",
      "\n",
      "  dbus               pkgs/main/osx-64::dbus-1.13.6-h90a0687_0\n",
      "  expat              pkgs/main/osx-64::expat-2.2.6-h0a44026_0\n",
      "  gettext            pkgs/main/osx-64::gettext-0.19.8.1-h15daf44_3\n",
      "  glib               pkgs/main/osx-64::glib-2.56.2-hd9629dc_0\n",
      "  icu                pkgs/main/osx-64::icu-58.2-h4b95b61_1\n",
      "  jpeg               pkgs/main/osx-64::jpeg-9b-he5867d9_2\n",
      "  libiconv           pkgs/main/osx-64::libiconv-1.15-hdd342a3_7\n",
      "  pcre               pkgs/main/osx-64::pcre-8.43-h0a44026_0\n",
      "  pyqt               pkgs/main/osx-64::pyqt-5.9.2-py37h655552a_2\n",
      "  qt                 pkgs/main/osx-64::qt-5.9.7-h468cd18_1\n",
      "  sip                pkgs/main/osx-64::sip-4.19.8-py37h0a44026_0\n",
      "\n",
      "\n",
      "\n",
      "Downloading and Extracting Packages\n",
      "jpeg-9b              | 201 KB    | ########## | 100% \n",
      "dbus-1.13.6          | 445 KB    | ########## | 100% \n",
      "expat-2.2.6          | 111 KB    | ########## | 100% \n",
      "sip-4.19.8           | 237 KB    | ########## | 100% \n",
      "gettext-0.19.8.1     | 2.6 MB    | ########## | 100% \n",
      "qt-5.9.7             | 62.0 MB   | ########## | 100% \n",
      "pyqt-5.9.2           | 3.6 MB    | ########## | 100% \n",
      "icu-58.2             | 10.1 MB   | ########## | 100% \n",
      "pcre-8.43            | 185 KB    | ########## | 100% \n",
      "glib-2.56.2          | 3.7 MB    | ########## | 100% \n",
      "Preparing transaction: ...working... done\n",
      "Verifying transaction: ...working... done\n",
      "Executing transaction: ...working... done\n"
     ]
    }
   ],
   "source": [
    "include(\"src/JuliaPhonons.jl\")\n",
    "using PyPlot"
   ]
  },
  {
   "cell_type": "markdown",
   "metadata": {},
   "source": [
    "### Read in data using JuliaPhonons"
   ]
  },
  {
   "cell_type": "code",
   "execution_count": 5,
   "metadata": {},
   "outputs": [
    {
     "name": "stderr",
     "output_type": "stream",
     "text": [
      "WARNING: importing deprecated binding Base.readdlm into JuliaPhonons.\n",
      "WARNING: Base.readdlm is deprecated: it has been moved to the standard library package `DelimitedFiles`.\n",
      "Add `using DelimitedFiles` to your imports.\n",
      "  likely near /Users/lucydot/.julia/packages/IJulia/fRegO/src/kernel.jl:52\n",
      "WARNING: importing deprecated binding Base.cross into JuliaPhonons.\n",
      "WARNING: Base.cross is deprecated: it has been moved to the standard library package `LinearAlgebra`.\n",
      "Add `using LinearAlgebra` to your imports.\n",
      "  likely near /Users/lucydot/.julia/packages/IJulia/fRegO/src/kernel.jl:52\n",
      "WARNING: importing deprecated binding Base.dot into JuliaPhonons.\n",
      "WARNING: Base.dot is deprecated: it has been moved to the standard library package `LinearAlgebra`.\n",
      "Add `using LinearAlgebra` to your imports.\n",
      "  likely near /Users/lucydot/.julia/packages/IJulia/fRegO/src/kernel.jl:52\n",
      "WARNING: importing deprecated binding Base.STDERR into JuliaPhonons.\n",
      "WARNING: Base.readdlm is deprecated: it has been moved to the standard library package `DelimitedFiles`.\n",
      "Add `using DelimitedFiles` to your imports.\n",
      "  likely near /Users/lucydot/.julia/packages/IJulia/fRegO/src/kernel.jl:52\n",
      "WARNING: Base.cross is deprecated: it has been moved to the standard library package `LinearAlgebra`.\n",
      "Add `using LinearAlgebra` to your imports.\n",
      "  likely near /Users/lucydot/.julia/packages/IJulia/fRegO/src/kernel.jl:52\n",
      "WARNING: Base.dot is deprecated: it has been moved to the standard library package `LinearAlgebra`.\n",
      "Add `using LinearAlgebra` to your imports.\n",
      "  likely near /Users/lucydot/.julia/packages/IJulia/fRegO/src/kernel.jl:52\n",
      "WARNING: Base.readdlm is deprecated: it has been moved to the standard library package `DelimitedFiles`.\n",
      "Add `using DelimitedFiles` to your imports.\n",
      "  likely near /Users/lucydot/.julia/packages/IJulia/fRegO/src/kernel.jl:52\n",
      "WARNING: Base.cross is deprecated: it has been moved to the standard library package `LinearAlgebra`.\n",
      "Add `using LinearAlgebra` to your imports.\n",
      "  likely near /Users/lucydot/.julia/packages/IJulia/fRegO/src/kernel.jl:52\n",
      "WARNING: Base.cross is deprecated: it has been moved to the standard library package `LinearAlgebra`.\n",
      "Add `using LinearAlgebra` to your imports.\n",
      "  likely near /Users/lucydot/.julia/packages/IJulia/fRegO/src/kernel.jl:52\n",
      "WARNING: Base.cross is deprecated: it has been moved to the standard library package `LinearAlgebra`.\n",
      "Add `using LinearAlgebra` to your imports.\n",
      "  likely near /Users/lucydot/.julia/packages/IJulia/fRegO/src/kernel.jl:52\n",
      "WARNING: Base.cross is deprecated: it has been moved to the standard library package `LinearAlgebra`.\n",
      "Add `using LinearAlgebra` to your imports.\n",
      "  likely near /Users/lucydot/.julia/packages/IJulia/fRegO/src/kernel.jl:52\n",
      "WARNING: Base.cross is deprecated: it has been moved to the standard library package `LinearAlgebra`.\n",
      "Add `using LinearAlgebra` to your imports.\n",
      "  likely near /Users/lucydot/.julia/packages/IJulia/fRegO/src/kernel.jl:52\n",
      "WARNING: Base.dot is deprecated: it has been moved to the standard library package `LinearAlgebra`.\n",
      "Add `using LinearAlgebra` to your imports.\n",
      "  likely near /Users/lucydot/.julia/packages/IJulia/fRegO/src/kernel.jl:52\n",
      "WARNING: Base.dot is deprecated: it has been moved to the standard library package `LinearAlgebra`.\n",
      "Add `using LinearAlgebra` to your imports.\n",
      "  likely near /Users/lucydot/.julia/packages/IJulia/fRegO/src/kernel.jl:52\n",
      "WARNING: Base.dot is deprecated: it has been moved to the standard library package `LinearAlgebra`.\n",
      "Add `using LinearAlgebra` to your imports.\n",
      "  likely near /Users/lucydot/.julia/packages/IJulia/fRegO/src/kernel.jl:52\n",
      "WARNING: Base.dot is deprecated: it has been moved to the standard library package `LinearAlgebra`.\n",
      "Add `using LinearAlgebra` to your imports.\n",
      "  likely near /Users/lucydot/.julia/packages/IJulia/fRegO/src/kernel.jl:52\n",
      "WARNING: Base.dot is deprecated: it has been moved to the standard library package `LinearAlgebra`.\n",
      "Add `using LinearAlgebra` to your imports.\n",
      "  likely near /Users/lucydot/.julia/packages/IJulia/fRegO/src/kernel.jl:52\n",
      "WARNING: Base.readdlm is deprecated: it has been moved to the standard library package `DelimitedFiles`.\n",
      "Add `using DelimitedFiles` to your imports.\n",
      "  likely near /Users/lucydot/.julia/packages/IJulia/fRegO/src/kernel.jl:52\n",
      "WARNING: Base.cross is deprecated: it has been moved to the standard library package `LinearAlgebra`.\n",
      "Add `using LinearAlgebra` to your imports.\n",
      "  likely near /Users/lucydot/.julia/packages/IJulia/fRegO/src/kernel.jl:52\n",
      "WARNING: Base.dot is deprecated: it has been moved to the standard library package `LinearAlgebra`.\n",
      "Add `using LinearAlgebra` to your imports.\n",
      "  likely near /Users/lucydot/.julia/packages/IJulia/fRegO/src/kernel.jl:52\n",
      "WARNING: Base.readdlm is deprecated: it has been moved to the standard library package `DelimitedFiles`.\n",
      "Add `using DelimitedFiles` to your imports.\n",
      "  likely near /Users/lucydot/.julia/packages/IJulia/fRegO/src/kernel.jl:52\n",
      "WARNING: Base.cross is deprecated: it has been moved to the standard library package `LinearAlgebra`.\n",
      "Add `using LinearAlgebra` to your imports.\n",
      "  likely near /Users/lucydot/.julia/packages/IJulia/fRegO/src/kernel.jl:52\n",
      "WARNING: Base.dot is deprecated: it has been moved to the standard library package `LinearAlgebra`.\n",
      "Add `using LinearAlgebra` to your imports.\n",
      "  likely near /Users/lucydot/.julia/packages/IJulia/fRegO/src/kernel.jl:52\n",
      "WARNING: Base.readdlm is deprecated: it has been moved to the standard library package `DelimitedFiles`.\n",
      "Add `using DelimitedFiles` to your imports.\n",
      "  likely near /Users/lucydot/.julia/packages/IJulia/fRegO/src/kernel.jl:52\n",
      "WARNING: Base.cross is deprecated: it has been moved to the standard library package `LinearAlgebra`.\n",
      "Add `using LinearAlgebra` to your imports.\n",
      "  likely near /Users/lucydot/.julia/packages/IJulia/fRegO/src/kernel.jl:52\n",
      "WARNING: Base.cross is deprecated: it has been moved to the standard library package `LinearAlgebra`.\n",
      "Add `using LinearAlgebra` to your imports.\n",
      "  likely near /Users/lucydot/.julia/packages/IJulia/fRegO/src/kernel.jl:52\n",
      "WARNING: Base.cross is deprecated: it has been moved to the standard library package `LinearAlgebra`.\n",
      "Add `using LinearAlgebra` to your imports.\n",
      "  likely near /Users/lucydot/.julia/packages/IJulia/fRegO/src/kernel.jl:52\n",
      "WARNING: Base.cross is deprecated: it has been moved to the standard library package `LinearAlgebra`.\n",
      "Add `using LinearAlgebra` to your imports.\n",
      "  likely near /Users/lucydot/.julia/packages/IJulia/fRegO/src/kernel.jl:52\n",
      "WARNING: Base.cross is deprecated: it has been moved to the standard library package `LinearAlgebra`.\n",
      "Add `using LinearAlgebra` to your imports.\n",
      "  likely near /Users/lucydot/.julia/packages/IJulia/fRegO/src/kernel.jl:52\n",
      "WARNING: Base.dot is deprecated: it has been moved to the standard library package `LinearAlgebra`.\n",
      "Add `using LinearAlgebra` to your imports.\n",
      "  likely near /Users/lucydot/.julia/packages/IJulia/fRegO/src/kernel.jl:52\n",
      "WARNING: Base.dot is deprecated: it has been moved to the standard library package `LinearAlgebra`.\n",
      "Add `using LinearAlgebra` to your imports.\n",
      "  likely near /Users/lucydot/.julia/packages/IJulia/fRegO/src/kernel.jl:52\n",
      "WARNING: Base.dot is deprecated: it has been moved to the standard library package `LinearAlgebra`.\n",
      "Add `using LinearAlgebra` to your imports.\n",
      "  likely near /Users/lucydot/.julia/packages/IJulia/fRegO/src/kernel.jl:52\n",
      "WARNING: Base.dot is deprecated: it has been moved to the standard library package `LinearAlgebra`.\n",
      "Add `using LinearAlgebra` to your imports.\n",
      "  likely near /Users/lucydot/.julia/packages/IJulia/fRegO/src/kernel.jl:52\n",
      "WARNING: Base.dot is deprecated: it has been moved to the standard library package `LinearAlgebra`.\n",
      "Add `using LinearAlgebra` to your imports.\n",
      "  likely near /Users/lucydot/.julia/packages/IJulia/fRegO/src/kernel.jl:52\n",
      "WARNING: Base.cross is deprecated: it has been moved to the standard library package `LinearAlgebra`.\n",
      "Add `using LinearAlgebra` to your imports.\n",
      "  likely near /Users/lucydot/.julia/packages/IJulia/fRegO/src/kernel.jl:52\n",
      "in #read_POSCAR#1 at /Users/lucydot/Projects/2018_JuliaPhonons/src/JuliaPhonons.jl\n",
      "WARNING: Base.dot is deprecated: it has been moved to the standard library package `LinearAlgebra`.\n",
      "Add `using LinearAlgebra` to your imports.\n",
      "  likely near /Users/lucydot/.julia/packages/IJulia/fRegO/src/kernel.jl:52\n",
      "in #read_POSCAR#1 at /Users/lucydot/Projects/2018_JuliaPhonons/src/JuliaPhonons.jl\n",
      "WARNING: Base.STDERR is deprecated, use stderr instead.\n",
      "  likely near /Users/lucydot/.julia/packages/IJulia/fRegO/src/kernel.jl:52\n",
      "in #read_POSCAR#1 at /Users/lucydot/Projects/2018_JuliaPhonons/src/JuliaPhonons.jl\n",
      "WARNING: Base.STDERR is deprecated, use stderr instead.\n",
      "  likely near /Users/lucydot/.julia/packages/IJulia/fRegO/src/kernel.jl:52\n",
      "in #read_POSCAR#1 at /Users/lucydot/Projects/2018_JuliaPhonons/src/JuliaPhonons.jl\n",
      "WARNING: Base.STDERR is deprecated, use stderr instead.\n",
      "  likely near /Users/lucydot/.julia/packages/IJulia/fRegO/src/kernel.jl:52\n",
      "in #read_POSCAR#1 at /Users/lucydot/Projects/2018_JuliaPhonons/src/JuliaPhonons.jl\n",
      "WARNING: Base.STDERR is deprecated, use stderr instead.\n",
      "  likely near /Users/lucydot/.julia/packages/IJulia/fRegO/src/kernel.jl:52\n",
      "in #read_POSCAR#1 at /Users/lucydot/Projects/2018_JuliaPhonons/src/JuliaPhonons.jl\n",
      "WARNING: Base.STDERR is deprecated, use stderr instead.\n",
      "  likely near /Users/lucydot/.julia/packages/IJulia/fRegO/src/kernel.jl:52\n",
      "in #read_POSCAR#1 at /Users/lucydot/Projects/2018_JuliaPhonons/src/JuliaPhonons.jl\n",
      "WARNING: Base.STDERR is deprecated, use stderr instead.\n",
      "  likely near /Users/lucydot/.julia/packages/IJulia/fRegO/src/kernel.jl:52\n",
      "in #read_POSCAR#1 at /Users/lucydot/Projects/2018_JuliaPhonons/src/JuliaPhonons.jl\n",
      "[12.5743 0.000853903 0.137524; 0.000141603 12.4741 -0.000835312; 0.138595 -1.31954e-5 12.7567]\n",
      "Volume: 2000.6757668208738\n"
     ]
    },
    {
     "name": "stderr",
     "output_type": "stream",
     "text": [
      "SubString{String}[\"C\", \"N\", \"H\", \"Pb\", \"I\"]\n",
      "POSCAR.natoms: 97\n",
      "AbstractString[\"C\", \"C\", \"C\", \"C\", \"C\", \"C\", \"C\", \"C\", \"N\", \"N\", \"N\", \"N\", \"N\", \"N\", \"N\", \"N\", \"H\", \"H\", \"H\", \"H\", \"H\", \"H\", \"H\", \"H\", \"H\", \"H\", \"H\", \"H\", \"H\", \"H\", \"H\", \"H\", \"H\", \"H\", \"H\", \"H\", \"H\", \"H\", \"H\", \"H\", \"H\", \"H\", \"H\", \"H\", \"H\", \"H\", \"H\", \"H\", \"H\", \"H\", \"H\", \"H\", \"H\", \"H\", \"H\", \"H\", \"H\", \"H\", \"H\", \"H\", \"H\", \"H\", \"H\", \"H\", \"Pb\", \"Pb\", \"Pb\", \"Pb\", \"Pb\", \"Pb\", \"Pb\", \"Pb\", \"I\", \"I\", \"I\", \"I\", \"I\", \"I\", \"I\", \"I\", \"I\", \"I\", \"I\", \"I\", \"I\", \"I\", \"I\", \"I\", \"I\", \"I\", \"I\", \"I\", \"I\", \"I\", \"I\", \"I\", \"I\"]\n",
      "supercellexpansions ==>Array{Float64,1}[[0.0, 0.0, 0.0]]\n",
      "[12.5743 0.000853903 0.137524; 0.000141603 12.4741 -0.000835312; 0.138595 -1.31954e-5 12.7567]\n",
      "Volume: 2000.6757668208738\n",
      "SubString{String}[\"C\", \"N\", \"H\", \"Pb\", \"I\"]\n",
      "POSCAR.natoms: 97\n",
      "AbstractString[\"C\", \"C\", \"C\", \"C\", \"C\", \"C\", \"C\", \"C\", \"N\", \"N\", \"N\", \"N\", \"N\", \"N\", \"N\", \"N\", \"H\", \"H\", \"H\", \"H\", \"H\", \"H\", \"H\", \"H\", \"H\", \"H\", \"H\", \"H\", \"H\", \"H\", \"H\", \"H\", \"H\", \"H\", \"H\", \"H\", \"H\", \"H\", \"H\", \"H\", \"H\", \"H\", \"H\", \"H\", \"H\", \"H\", \"H\", \"H\", \"H\", \"H\", \"H\", \"H\", \"H\", \"H\", \"H\", \"H\", \"H\", \"H\", \"H\", \"H\", \"H\", \"H\", \"H\", \"H\", \"Pb\", \"Pb\", \"Pb\", \"Pb\", \"Pb\", \"Pb\", \"Pb\", \"Pb\", \"I\", \"I\", \"I\", \"I\", \"I\", \"I\", \"I\", \"I\", \"I\", \"I\", \"I\", \"I\", \"I\", \"I\", \"I\", \"I\", \"I\", \"I\", \"I\", \"I\", \"I\", \"I\", \"I\", \"I\", \"I\"]\n",
      "supercellexpansions ==>Array{Float64,1}[[0.0, 0.0, 0.0]]\n",
      "[6.28713 0.000426951 0.0687618; 7.08017e-5 6.23705 -0.000417656; 0.0692974 -6.59772e-6 6.37833]\n",
      "Volume: 250.08447085260923\n",
      "SubString{String}[\"C\", \"N\", \"H\", \"Pb\", \"I\"]\n",
      "POSCAR.natoms: 12\n",
      "AbstractString[\"C\", \"N\", \"H\", \"H\", \"H\", \"H\", \"H\", \"H\", \"Pb\", \"I\", \"I\", \"I\"]\n",
      "supercellexpansions ==>Array{Float64,1}[[0.0, 0.0, 0.0]]\n"
     ]
    },
    {
     "data": {
      "text/plain": [
       "(Any[[0.0909134 0.104155 0.00862495; 0.0983182 0.112363 0.0100874; … ; 0.296444 0.337899 0.0287834; 0.301282 0.337792 0.0266648], [0.103906 -0.0888006 -0.0298532; 0.112019 -0.0958573 -0.0318454; … ; 0.33584 -0.288231 -0.0965737; 0.333316 -0.287944 -0.101759], [0.0177765 -0.0265022 0.134911; 0.0189084 -0.02859 0.146352; … ; 0.0576788 -0.0859989 0.440055; 0.0569092 -0.0859566 0.44134], [0.00139734 -0.096189 8.25423e-5; 0.00135372 -0.153166 0.000269111; … ; 0.0016166 -0.0904076 0.0011816; -0.0013526 0.851741 -0.00128379], [0.101602 0.00156059 0.0633646; 0.090599 0.000544892 0.116293; … ; 0.296459 0.00428477 0.4966; -0.16475 -0.00294152 -0.569291], [0.0164859 -0.00238063 0.0358293; 0.0125822 -0.00192689 0.0524691; … ; 0.72516 0.00516873 -0.0579192; -0.081074 -0.00290181 0.464587], [0.00133076 -0.202322 -0.00373144; 0.0010399 -0.202927 -0.00348954; … ; -0.0113752 0.253608 -0.00858101; -0.0004269 -0.249335 -0.000658783], [0.0905063 0.0040615 -0.0868587; 0.117656 0.00373707 -0.139297; … ; -0.167333 -0.00100003 -0.312312; -0.109014 0.00227098 0.355072], [0.000200543 0.000317155 -0.173184; -0.041676 0.0013442 -0.0862262; … ; 0.34136 -0.000554884 -0.542082; -0.0779461 0.00177149 -0.326196], [-0.228946 0.0117562 0.727375; 0.0451719 0.00151156 0.078713; … ; 0.0218266 -0.000758911 -0.219568; 0.00415523 -0.000728807 -0.0684006]  …  [-0.0862278 0.000255682 0.105002; -0.0837499 0.000165915 0.0753627; … ; 0.00020793 -1.75247e-7 -8.39959e-5; -0.000177062 -7.93725e-7 -5.16472e-5], [-0.000667757 0.000114571 -0.00364268; -0.32383 -1.53379e-5 -0.205335; … ; 0.000800665 1.42429e-6 0.00307912; 0.000267304 -3.64721e-6 -0.000315229], [0.0148355 -8.79101e-5 -0.046923; 0.100058 -0.000200677 -0.121828; … ; 0.00013924 -1.05067e-6 0.00228052; -0.000347888 2.39876e-7 0.000265563], [-0.000652324 -0.0565316 -0.000240285; -3.3708e-5 -0.155842 0.00030574; … ; -9.02075e-6 -0.000483486 1.8244e-6; 2.97469e-6 0.0017059 2.3151e-6], [0.151732 -0.000368162 0.0502845; -0.0142113 0.00117546 -0.00102023; … ; 0.000130519 -5.32724e-6 3.39517e-5; 0.000105276 4.19809e-6 8.1468e-5], [-0.00035773 -0.302714 0.00138591; 0.000752533 0.0838482 -0.000224888; … ; 5.15419e-7 4.93431e-6 9.54176e-7; -1.00934e-6 3.72508e-5 -1.48533e-7], [0.111828 -0.00160619 -0.286623; -0.0343843 0.000184012 0.0288423; … ; -0.000124294 6.691e-7 -5.84684e-5; 3.14726e-5 -5.12158e-7 3.79189e-5], [-0.0350462 -0.00268325 0.0443794; -0.179621 -0.0056468 0.0680515; … ; -0.000141855 3.94632e-6 -0.00012315; 4.0112e-5 -5.70021e-6 -6.65767e-5], [0.00113162 -0.083557 -0.000559353; 0.00404193 -0.283709 -0.00208418; … ; 5.64374e-6 9.41219e-6 4.64541e-6; 4.11236e-8 -2.2229e-5 1.48511e-6], [-0.0010517 -7.99629e-5 0.0148441; -0.0314126 -0.000828729 0.265076; … ; -0.000881542 -2.12138e-6 -0.000464245; 5.1644e-5 1.89523e-6 1.25979e-5]], [-0.0160114, -0.00545019, 0.0012071, 0.425445, 0.74715, 0.813267, 0.883633, 0.943184, 1.01168, 1.72382  …  42.7288, 43.8902, 46.2194, 46.721, 89.1061, 91.9654, 92.1662, 92.627, 92.9011, 95.7936])"
      ]
     },
     "execution_count": 5,
     "metadata": {},
     "output_type": "execute_result"
    }
   ],
   "source": [
    "# note that the results from the iodine interstitial in MAPI at PBEsol level of theory dont make great sense\n",
    "# as the negative was not relaxed from the neutral case.\n",
    "# this has been fixed for HSE06 but I have not done the phonons yet...\n",
    "\n",
    "\n",
    "poscar_neutral = JuliaPhonons.read_POSCAR(open(\"./examples/MAPI_H_centre/neutral_POSCAR\"))\n",
    "poscar_negative = JuliaPhonons.read_POSCAR(open(\"./examples/MAPI_H_centre/negative_POSCAR\"))\n",
    "poscar_perfect = JuliaPhonons.read_POSCAR(open(\"./examples/MAPI_H_centre/perfect_POSCAR\"))\n",
    "phonons_neutral = JuliaPhonons.read_meshyaml(open(\"./examples/MAPI_H_centre/neutral_mesh.yaml\"),poscar_neutral)\n",
    "phonons_negative = JuliaPhonons.read_meshyaml(open(\"./examples/MAPI_H_centre/negative_mesh.yaml\"),poscar_negative)\n",
    "phonons_perfect = JuliaPhonons.read_meshyaml(open(\"./examples/MAPI_H_centre/perfect_mesh.yaml\"),poscar_perfect)\n"
   ]
  },
  {
   "cell_type": "markdown",
   "metadata": {},
   "source": [
    "### Project displacement (negative -> neutral) onto negative phonon modes\n",
    "\n",
    "This tells us which modes are active for the charge transition"
   ]
  },
  {
   "cell_type": "code",
   "execution_count": 6,
   "metadata": {},
   "outputs": [],
   "source": [
    "displacement =  poscar_neutral.positions.-poscar_negative.positions \n",
    "\n",
    "# check to see if any that shifted more than half a unit cell - in this case it is more likely \n",
    "# that moved into a neighbouring cell.\n",
    "# I have been careful to define this so that if the start and end points are interchanged the displacement stays the same.\n",
    "for i = 1:size(displacement,2)\n",
    "    for j = 1:size(displacement,1)\n",
    "        if (displacement[j,i]) > 0.5\n",
    "            displacement[j,i] = 1-(displacement[j,i])\n",
    "            \n",
    "        end\n",
    "        if (displacement[j,i]) < -0.5\n",
    "            displacement[j,i] = -1-(displacement[j,i])\n",
    "            \n",
    "        end\n",
    "    end\n",
    "end\n"
   ]
  },
  {
   "cell_type": "code",
   "execution_count": 7,
   "metadata": {},
   "outputs": [
    {
     "name": "stderr",
     "output_type": "stream",
     "text": [
      "WARNING: Base.dot is deprecated: it has been moved to the standard library package `LinearAlgebra`.\n",
      "Add `using LinearAlgebra` to your imports.\n",
      "  likely near /Users/lucydot/.julia/packages/IJulia/fRegO/src/kernel.jl:52\n",
      "WARNING: Base.dot is deprecated: it has been moved to the standard library package `LinearAlgebra`.\n",
      "Add `using LinearAlgebra` to your imports.\n",
      "  likely near /Users/lucydot/.julia/packages/IJulia/fRegO/src/kernel.jl:52\n",
      "WARNING: Base.dot is deprecated: it has been moved to the standard library package `LinearAlgebra`.\n",
      "Add `using LinearAlgebra` to your imports.\n",
      "  likely near /Users/lucydot/.julia/packages/IJulia/fRegO/src/kernel.jl:52\n",
      "WARNING: Base.dot is deprecated: it has been moved to the standard library package `LinearAlgebra`.\n",
      "Add `using LinearAlgebra` to your imports.\n",
      "  likely near /Users/lucydot/.julia/packages/IJulia/fRegO/src/kernel.jl:52\n",
      "WARNING: Base.dot is deprecated: it has been moved to the standard library package `LinearAlgebra`.\n",
      "Add `using LinearAlgebra` to your imports.\n",
      "  likely near /Users/lucydot/.julia/packages/IJulia/fRegO/src/kernel.jl:52\n",
      "WARNING: Base.dot is deprecated: it has been moved to the standard library package `LinearAlgebra`.\n",
      "Add `using LinearAlgebra` to your imports.\n",
      "  likely near /Users/lucydot/.julia/packages/IJulia/fRegO/src/kernel.jl:52\n",
      "WARNING: Base.dot is deprecated: it has been moved to the standard library package `LinearAlgebra`.\n",
      "Add `using LinearAlgebra` to your imports.\n",
      "  likely near /Users/lucydot/.julia/packages/IJulia/fRegO/src/kernel.jl:52\n",
      "WARNING: Base.dot is deprecated: it has been moved to the standard library package `LinearAlgebra`.\n",
      "Add `using LinearAlgebra` to your imports.\n",
      "  likely near /Users/lucydot/.julia/packages/IJulia/fRegO/src/kernel.jl:52\n",
      "in top-level scope at In[7]\n"
     ]
    }
   ],
   "source": [
    "# scalar projection https://en.wikipedia.org/wiki/Dot_product\n",
    "# abs or no?\n",
    "projections = []\n",
    "for eigenvector in phonons_negative[1]   # projecting onto negative as these are stable imaginary in neutral phonon :(\n",
    "    push!(projections,abs(dot(displacement,eigenvector)))\n",
    "end"
   ]
  },
  {
   "cell_type": "code",
   "execution_count": 12,
   "metadata": {
    "scrolled": false
   },
   "outputs": [
    {
     "data": {
      "image/png": "[encoded data removed]",
      "text/plain": [
       "Figure(PyObject <Figure size 640x480 with 1 Axes>)"
      ]
     },
     "metadata": {},
     "output_type": "display_data"
    },
    {
     "data": {
      "text/plain": [
       "(PyObject <matplotlib.patches.Rectangle object at 0x129d3e5f8>, PyObject <matplotlib.patches.Rectangle object at 0x129d3e2e8>, PyObject <matplotlib.patches.Rectangle object at 0x129d3ebe0>, PyObject <matplotlib.patches.Rectangle object at 0x129d3eef0>, PyObject <matplotlib.patches.Rectangle object at 0x129d3ef28>, PyObject <matplotlib.patches.Rectangle object at 0x129d4f550>, PyObject <matplotlib.patches.Rectangle object at 0x129d4f860>, PyObject <matplotlib.patches.Rectangle object at 0x129d4fb70>, PyObject <matplotlib.patches.Rectangle object at 0x129d4fe80>, PyObject <matplotlib.patches.Rectangle object at 0x129d4ff98>, PyObject <matplotlib.patches.Rectangle object at 0x129d5e4e0>, PyObject <matplotlib.patches.Rectangle object at 0x129d5e7f0>, PyObject <matplotlib.patches.Rectangle object at 0x129d5eb00>, PyObject <matplotlib.patches.Rectangle object at 0x129d5ee10>, PyObject <matplotlib.patches.Rectangle object at 0x129d5ef28>, PyObject <matplotlib.patches.Rectangle object at 0x14b62d470>, PyObject <matplotlib.patches.Rectangle object at 0x14b62d780>, PyObject <matplotlib.patches.Rectangle object at 0x14b62da90>, PyObject <matplotlib.patches.Rectangle object at 0x14b62dda0>, PyObject <matplotlib.patches.Rectangle object at 0x14b62deb8>, PyObject <matplotlib.patches.Rectangle object at 0x14b638400>, PyObject <matplotlib.patches.Rectangle object at 0x14b638710>, PyObject <matplotlib.patches.Rectangle object at 0x14b638a20>, PyObject <matplotlib.patches.Rectangle object at 0x14b638d30>, PyObject <matplotlib.patches.Rectangle object at 0x14b638e48>, PyObject <matplotlib.patches.Rectangle object at 0x14b646390>, PyObject <matplotlib.patches.Rectangle object at 0x14b6466a0>, PyObject <matplotlib.patches.Rectangle object at 0x14b6469b0>, PyObject <matplotlib.patches.Rectangle object at 0x14b646cc0>, PyObject <matplotlib.patches.Rectangle object at 0x14b646fd0>, PyObject <matplotlib.patches.Rectangle object at 0x14b646f98>, PyObject <matplotlib.patches.Rectangle object at 0x14b654630>, PyObject <matplotlib.patches.Rectangle object at 0x14b654940>, PyObject <matplotlib.patches.Rectangle object at 0x14b654c50>, PyObject <matplotlib.patches.Rectangle object at 0x14b654f60>, PyObject <matplotlib.patches.Rectangle object at 0x14b654f98>, PyObject <matplotlib.patches.Rectangle object at 0x14b6615c0>, PyObject <matplotlib.patches.Rectangle object at 0x14b6618d0>, PyObject <matplotlib.patches.Rectangle object at 0x14b661be0>, PyObject <matplotlib.patches.Rectangle object at 0x14b661ef0>, PyObject <matplotlib.patches.Rectangle object at 0x14b661f28>, PyObject <matplotlib.patches.Rectangle object at 0x14b670550>, PyObject <matplotlib.patches.Rectangle object at 0x14b670860>, PyObject <matplotlib.patches.Rectangle object at 0x14b670b70>, PyObject <matplotlib.patches.Rectangle object at 0x14b670e80>, PyObject <matplotlib.patches.Rectangle object at 0x14b670f98>, PyObject <matplotlib.patches.Rectangle object at 0x14b67d4e0>, PyObject <matplotlib.patches.Rectangle object at 0x14b67d7f0>, PyObject <matplotlib.patches.Rectangle object at 0x14b67db00>, PyObject <matplotlib.patches.Rectangle object at 0x14b67de10>, PyObject <matplotlib.patches.Rectangle object at 0x14b67df28>, PyObject <matplotlib.patches.Rectangle object at 0x14b68b470>, PyObject <matplotlib.patches.Rectangle object at 0x14b68b780>, PyObject <matplotlib.patches.Rectangle object at 0x14b68ba90>, PyObject <matplotlib.patches.Rectangle object at 0x14b68bda0>, PyObject <matplotlib.patches.Rectangle object at 0x14b68beb8>, PyObject <matplotlib.patches.Rectangle object at 0x14b698400>, PyObject <matplotlib.patches.Rectangle object at 0x14b698710>, PyObject <matplotlib.patches.Rectangle object at 0x14b698a20>, PyObject <matplotlib.patches.Rectangle object at 0x14b698d30>, PyObject <matplotlib.patches.Rectangle object at 0x14b698e48>, PyObject <matplotlib.patches.Rectangle object at 0x14b6a7390>, PyObject <matplotlib.patches.Rectangle object at 0x14b6a76a0>, PyObject <matplotlib.patches.Rectangle object at 0x14b6a79b0>, PyObject <matplotlib.patches.Rectangle object at 0x14b6a7cc0>, PyObject <matplotlib.patches.Rectangle object at 0x14b6a7fd0>, PyObject <matplotlib.patches.Rectangle object at 0x14b6a7f98>, PyObject <matplotlib.patches.Rectangle object at 0x14b6b3630>, PyObject <matplotlib.patches.Rectangle object at 0x14b6b3940>, PyObject <matplotlib.patches.Rectangle object at 0x14b6b3c50>, PyObject <matplotlib.patches.Rectangle object at 0x14b6b3f60>, PyObject <matplotlib.patches.Rectangle object at 0x14b6b3f98>, PyObject <matplotlib.patches.Rectangle object at 0x14b6c05c0>, PyObject <matplotlib.patches.Rectangle object at 0x14b6c08d0>, PyObject <matplotlib.patches.Rectangle object at 0x14b6c0be0>, PyObject <matplotlib.patches.Rectangle object at 0x14b6c0ef0>, PyObject <matplotlib.patches.Rectangle object at 0x14b6c0f28>, PyObject <matplotlib.patches.Rectangle object at 0x14b6cf550>, PyObject <matplotlib.patches.Rectangle object at 0x14b6cf860>, PyObject <matplotlib.patches.Rectangle object at 0x14b6cfb70>, PyObject <matplotlib.patches.Rectangle object at 0x14b6cfe80>, PyObject <matplotlib.patches.Rectangle object at 0x14b6cff98>, PyObject <matplotlib.patches.Rectangle object at 0x14b6db4e0>, PyObject <matplotlib.patches.Rectangle object at 0x14b6db7f0>, PyObject <matplotlib.patches.Rectangle object at 0x14b6dbb00>, PyObject <matplotlib.patches.Rectangle object at 0x14b6dbe10>, PyObject <matplotlib.patches.Rectangle object at 0x14b6dbf28>, PyObject <matplotlib.patches.Rectangle object at 0x14b6e7470>, PyObject <matplotlib.patches.Rectangle object at 0x14b6e7780>, PyObject <matplotlib.patches.Rectangle object at 0x14b6e7a90>, PyObject <matplotlib.patches.Rectangle object at 0x14b6e7da0>, PyObject <matplotlib.patches.Rectangle object at 0x14b6e7eb8>, PyObject <matplotlib.patches.Rectangle object at 0x14b6f5400>, PyObject <matplotlib.patches.Rectangle object at 0x14b6f5710>, PyObject <matplotlib.patches.Rectangle object at 0x14b6f5a20>, PyObject <matplotlib.patches.Rectangle object at 0x14b6f5d30>, PyObject <matplotlib.patches.Rectangle object at 0x14b6f5e48>, PyObject <matplotlib.patches.Rectangle object at 0x14b705390>, PyObject <matplotlib.patches.Rectangle object at 0x14b7056a0>, PyObject <matplotlib.patches.Rectangle object at 0x14b7059b0>, PyObject <matplotlib.patches.Rectangle object at 0x14b705cc0>, PyObject <matplotlib.patches.Rectangle object at 0x14b705fd0>, PyObject <matplotlib.patches.Rectangle object at 0x14b705f98>, PyObject <matplotlib.patches.Rectangle object at 0x14b712630>, PyObject <matplotlib.patches.Rectangle object at 0x14b712940>, PyObject <matplotlib.patches.Rectangle object at 0x14b712c50>, PyObject <matplotlib.patches.Rectangle object at 0x14b712f60>, PyObject <matplotlib.patches.Rectangle object at 0x14b712f98>, PyObject <matplotlib.patches.Rectangle object at 0x14b71f5c0>, PyObject <matplotlib.patches.Rectangle object at 0x14b71f8d0>, PyObject <matplotlib.patches.Rectangle object at 0x14b71fbe0>, PyObject <matplotlib.patches.Rectangle object at 0x14b71fef0>, PyObject <matplotlib.patches.Rectangle object at 0x14b71ff28>, PyObject <matplotlib.patches.Rectangle object at 0x14b72d550>, PyObject <matplotlib.patches.Rectangle object at 0x14b72d860>, PyObject <matplotlib.patches.Rectangle object at 0x14b72db70>, PyObject <matplotlib.patches.Rectangle object at 0x14b72de80>, PyObject <matplotlib.patches.Rectangle object at 0x14b72df98>, PyObject <matplotlib.patches.Rectangle object at 0x14b7394e0>, PyObject <matplotlib.patches.Rectangle object at 0x14b7397f0>, PyObject <matplotlib.patches.Rectangle object at 0x14b739b00>, PyObject <matplotlib.patches.Rectangle object at 0x14b739e10>, PyObject <matplotlib.patches.Rectangle object at 0x14b739f28>, PyObject <matplotlib.patches.Rectangle object at 0x14b747470>, PyObject <matplotlib.patches.Rectangle object at 0x14b747780>, PyObject <matplotlib.patches.Rectangle object at 0x14b747a90>, PyObject <matplotlib.patches.Rectangle object at 0x14b747da0>, PyObject <matplotlib.patches.Rectangle object at 0x14b747eb8>, PyObject <matplotlib.patches.Rectangle object at 0x14b755400>, PyObject <matplotlib.patches.Rectangle object at 0x14b755710>, PyObject <matplotlib.patches.Rectangle object at 0x14b755a20>, PyObject <matplotlib.patches.Rectangle object at 0x14b755d30>, PyObject <matplotlib.patches.Rectangle object at 0x14b755e48>, PyObject <matplotlib.patches.Rectangle object at 0x14b762390>, PyObject <matplotlib.patches.Rectangle object at 0x14b7626a0>, PyObject <matplotlib.patches.Rectangle object at 0x14b7629b0>, PyObject <matplotlib.patches.Rectangle object at 0x14b762cc0>, PyObject <matplotlib.patches.Rectangle object at 0x14b762fd0>, PyObject <matplotlib.patches.Rectangle object at 0x14b762f98>, PyObject <matplotlib.patches.Rectangle object at 0x14b76f630>, PyObject <matplotlib.patches.Rectangle object at 0x14b76f940>, PyObject <matplotlib.patches.Rectangle object at 0x14b76fc50>, PyObject <matplotlib.patches.Rectangle object at 0x14b76ff60>, PyObject <matplotlib.patches.Rectangle object at 0x14b76ff98>, PyObject <matplotlib.patches.Rectangle object at 0x14b77c5c0>, PyObject <matplotlib.patches.Rectangle object at 0x14b77c8d0>, PyObject <matplotlib.patches.Rectangle object at 0x14b77cbe0>, PyObject <matplotlib.patches.Rectangle object at 0x14b77cef0>, PyObject <matplotlib.patches.Rectangle object at 0x14b77cf28>, PyObject <matplotlib.patches.Rectangle object at 0x14b78b550>, PyObject <matplotlib.patches.Rectangle object at 0x14b78b860>, PyObject <matplotlib.patches.Rectangle object at 0x14b78bb70>, PyObject <matplotlib.patches.Rectangle object at 0x14b78be80>, PyObject <matplotlib.patches.Rectangle object at 0x14b78bf98>, PyObject <matplotlib.patches.Rectangle object at 0x14b7974e0>, PyObject <matplotlib.patches.Rectangle object at 0x14b7977f0>, PyObject <matplotlib.patches.Rectangle object at 0x14b797b00>, PyObject <matplotlib.patches.Rectangle object at 0x14b797e10>, PyObject <matplotlib.patches.Rectangle object at 0x14b797f28>, PyObject <matplotlib.patches.Rectangle object at 0x14b7a4470>, PyObject <matplotlib.patches.Rectangle object at 0x14b7a4780>, PyObject <matplotlib.patches.Rectangle object at 0x14b7a4a90>, PyObject <matplotlib.patches.Rectangle object at 0x14b7a4da0>, PyObject <matplotlib.patches.Rectangle object at 0x14b7a4eb8>, PyObject <matplotlib.patches.Rectangle object at 0x14b7b2400>, PyObject <matplotlib.patches.Rectangle object at 0x14b7b2710>, PyObject <matplotlib.patches.Rectangle object at 0x14b7b2a20>, PyObject <matplotlib.patches.Rectangle object at 0x14b7b2d30>, PyObject <matplotlib.patches.Rectangle object at 0x14b7b2e48>, PyObject <matplotlib.patches.Rectangle object at 0x14b7c0390>, PyObject <matplotlib.patches.Rectangle object at 0x14b7c06a0>, PyObject <matplotlib.patches.Rectangle object at 0x14b7c09b0>, PyObject <matplotlib.patches.Rectangle object at 0x14b7c0cc0>, PyObject <matplotlib.patches.Rectangle object at 0x14b7c0fd0>, PyObject <matplotlib.patches.Rectangle object at 0x14b7c0f98>, PyObject <matplotlib.patches.Rectangle object at 0x14b7ce630>, PyObject <matplotlib.patches.Rectangle object at 0x14b7ce940>, PyObject <matplotlib.patches.Rectangle object at 0x14b7cec50>, PyObject <matplotlib.patches.Rectangle object at 0x14b7cef60>, PyObject <matplotlib.patches.Rectangle object at 0x14b7cef98>, PyObject <matplotlib.patches.Rectangle object at 0x14b7db5c0>, PyObject <matplotlib.patches.Rectangle object at 0x14b7db8d0>, PyObject <matplotlib.patches.Rectangle object at 0x14b7dbbe0>, PyObject <matplotlib.patches.Rectangle object at 0x14b7dbef0>, PyObject <matplotlib.patches.Rectangle object at 0x14b7dbf28>, PyObject <matplotlib.patches.Rectangle object at 0x14b7e8550>, PyObject <matplotlib.patches.Rectangle object at 0x14b7e8860>, PyObject <matplotlib.patches.Rectangle object at 0x14b7e8b70>, PyObject <matplotlib.patches.Rectangle object at 0x14b7e8e80>, PyObject <matplotlib.patches.Rectangle object at 0x14b7e8f98>, PyObject <matplotlib.patches.Rectangle object at 0x14b7f54e0>, PyObject <matplotlib.patches.Rectangle object at 0x14b7f57f0>, PyObject <matplotlib.patches.Rectangle object at 0x14b7f5b00>, PyObject <matplotlib.patches.Rectangle object at 0x14b7f5e10>, PyObject <matplotlib.patches.Rectangle object at 0x14b7f5f28>, PyObject <matplotlib.patches.Rectangle object at 0x14b804470>, PyObject <matplotlib.patches.Rectangle object at 0x14b804780>, PyObject <matplotlib.patches.Rectangle object at 0x14b804a90>, PyObject <matplotlib.patches.Rectangle object at 0x14b804da0>, PyObject <matplotlib.patches.Rectangle object at 0x14b804eb8>, PyObject <matplotlib.patches.Rectangle object at 0x14b811400>, PyObject <matplotlib.patches.Rectangle object at 0x14b811710>, PyObject <matplotlib.patches.Rectangle object at 0x14b811a20>, PyObject <matplotlib.patches.Rectangle object at 0x14b811d30>, PyObject <matplotlib.patches.Rectangle object at 0x14b811e48>, PyObject <matplotlib.patches.Rectangle object at 0x14b81f390>, PyObject <matplotlib.patches.Rectangle object at 0x14b81f6a0>, PyObject <matplotlib.patches.Rectangle object at 0x14b81f9b0>, PyObject <matplotlib.patches.Rectangle object at 0x14b81fcc0>, PyObject <matplotlib.patches.Rectangle object at 0x14b81ffd0>, PyObject <matplotlib.patches.Rectangle object at 0x14b81ff98>, PyObject <matplotlib.patches.Rectangle object at 0x14b82c630>, PyObject <matplotlib.patches.Rectangle object at 0x14b82c940>, PyObject <matplotlib.patches.Rectangle object at 0x14b82cc50>, PyObject <matplotlib.patches.Rectangle object at 0x14b82cf60>, PyObject <matplotlib.patches.Rectangle object at 0x14b82cf98>, PyObject <matplotlib.patches.Rectangle object at 0x14b83a5c0>, PyObject <matplotlib.patches.Rectangle object at 0x14b83a8d0>, PyObject <matplotlib.patches.Rectangle object at 0x14b83abe0>, PyObject <matplotlib.patches.Rectangle object at 0x14b83aef0>, PyObject <matplotlib.patches.Rectangle object at 0x14b83af28>, PyObject <matplotlib.patches.Rectangle object at 0x14b847550>, PyObject <matplotlib.patches.Rectangle object at 0x14b847860>, PyObject <matplotlib.patches.Rectangle object at 0x14b847b70>, PyObject <matplotlib.patches.Rectangle object at 0x14b847e80>, PyObject <matplotlib.patches.Rectangle object at 0x14b847f98>, PyObject <matplotlib.patches.Rectangle object at 0x14b8534e0>, PyObject <matplotlib.patches.Rectangle object at 0x14b8537f0>, PyObject <matplotlib.patches.Rectangle object at 0x14b853b00>, PyObject <matplotlib.patches.Rectangle object at 0x14b853e10>, PyObject <matplotlib.patches.Rectangle object at 0x14b853f28>, PyObject <matplotlib.patches.Rectangle object at 0x14b862470>, PyObject <matplotlib.patches.Rectangle object at 0x14b862780>, PyObject <matplotlib.patches.Rectangle object at 0x14b862a90>, PyObject <matplotlib.patches.Rectangle object at 0x14b862da0>, PyObject <matplotlib.patches.Rectangle object at 0x14b862eb8>, PyObject <matplotlib.patches.Rectangle object at 0x14b86e400>, PyObject <matplotlib.patches.Rectangle object at 0x14b86e710>, PyObject <matplotlib.patches.Rectangle object at 0x14b86ea20>, PyObject <matplotlib.patches.Rectangle object at 0x14b86ed30>, PyObject <matplotlib.patches.Rectangle object at 0x14b86ee48>, PyObject <matplotlib.patches.Rectangle object at 0x14b87c390>, PyObject <matplotlib.patches.Rectangle object at 0x14b87c6a0>, PyObject <matplotlib.patches.Rectangle object at 0x14b87c9b0>, PyObject <matplotlib.patches.Rectangle object at 0x14b87ccc0>, PyObject <matplotlib.patches.Rectangle object at 0x14b87cfd0>, PyObject <matplotlib.patches.Rectangle object at 0x14b87cf98>, PyObject <matplotlib.patches.Rectangle object at 0x14b889630>, PyObject <matplotlib.patches.Rectangle object at 0x14b889940>, PyObject <matplotlib.patches.Rectangle object at 0x14b889c50>, PyObject <matplotlib.patches.Rectangle object at 0x14b889f60>, PyObject <matplotlib.patches.Rectangle object at 0x14b889f98>, PyObject <matplotlib.patches.Rectangle object at 0x14b8965c0>, PyObject <matplotlib.patches.Rectangle object at 0x14b8968d0>, PyObject <matplotlib.patches.Rectangle object at 0x14b896be0>, PyObject <matplotlib.patches.Rectangle object at 0x14b896ef0>, PyObject <matplotlib.patches.Rectangle object at 0x14b896f28>, PyObject <matplotlib.patches.Rectangle object at 0x14b8a6550>, PyObject <matplotlib.patches.Rectangle object at 0x14b8a6860>, PyObject <matplotlib.patches.Rectangle object at 0x14b8a6b70>, PyObject <matplotlib.patches.Rectangle object at 0x14b8a6e80>, PyObject <matplotlib.patches.Rectangle object at 0x14b8a6f98>, PyObject <matplotlib.patches.Rectangle object at 0x14b8b34e0>, PyObject <matplotlib.patches.Rectangle object at 0x14b8b37f0>, PyObject <matplotlib.patches.Rectangle object at 0x14b8b3b00>, PyObject <matplotlib.patches.Rectangle object at 0x14b8b3e10>, PyObject <matplotlib.patches.Rectangle object at 0x14b8b3f28>, PyObject <matplotlib.patches.Rectangle object at 0x14b8bf470>, PyObject <matplotlib.patches.Rectangle object at 0x14b8bf780>, PyObject <matplotlib.patches.Rectangle object at 0x14b8bfa90>, PyObject <matplotlib.patches.Rectangle object at 0x14b8bfda0>, PyObject <matplotlib.patches.Rectangle object at 0x14b8bfeb8>, PyObject <matplotlib.patches.Rectangle object at 0x14b8cd400>, PyObject <matplotlib.patches.Rectangle object at 0x14b8cd710>, PyObject <matplotlib.patches.Rectangle object at 0x14b8cda20>, PyObject <matplotlib.patches.Rectangle object at 0x14b8cdd30>, PyObject <matplotlib.patches.Rectangle object at 0x14b8cde48>, PyObject <matplotlib.patches.Rectangle object at 0x14b8da390>, PyObject <matplotlib.patches.Rectangle object at 0x14b8da6a0>, PyObject <matplotlib.patches.Rectangle object at 0x14b8da9b0>, PyObject <matplotlib.patches.Rectangle object at 0x14b8dacc0>, PyObject <matplotlib.patches.Rectangle object at 0x14b8dafd0>, PyObject <matplotlib.patches.Rectangle object at 0x14b8daf98>, PyObject <matplotlib.patches.Rectangle object at 0x14b8e9630>, PyObject <matplotlib.patches.Rectangle object at 0x14b8e9940>, PyObject <matplotlib.patches.Rectangle object at 0x14b8e9c50>, PyObject <matplotlib.patches.Rectangle object at 0x14b8e9f60>, PyObject <matplotlib.patches.Rectangle object at 0x14b8e9f98>, PyObject <matplotlib.patches.Rectangle object at 0x14b8f55c0>, PyObject <matplotlib.patches.Rectangle object at 0x14b8f58d0>, PyObject <matplotlib.patches.Rectangle object at 0x14b8f5be0>)"
      ]
     },
     "execution_count": 12,
     "metadata": {},
     "output_type": "execute_result"
    }
   ],
   "source": [
    "PyPlot.bar(1:3*poscar_negative.natoms,projections)"
   ]
  },
  {
   "cell_type": "code",
   "execution_count": 35,
   "metadata": {},
   "outputs": [
    {
     "data": {
      "text/plain": [
       "9.331392738041226"
      ]
     },
     "execution_count": 35,
     "metadata": {},
     "output_type": "execute_result"
    }
   ],
   "source": [
    "sum(projections)"
   ]
  },
  {
   "cell_type": "code",
   "execution_count": 43,
   "metadata": {},
   "outputs": [
    {
     "name": "stdout",
     "output_type": "stream",
     "text": [
      "16  0.127941977430526\n",
      "17  0.09890704722274632\n",
      "61  0.07353109013539179\n",
      "64  0.07191391363156525\n",
      "65  0.10670086528335118\n",
      "100  0.08612957980534451\n",
      "102  0.0734694962895497\n",
      "113  0.07870051523836455\n",
      "118  0.09785336857018968\n",
      "122  0.09302598979945406\n",
      "123  0.07793478258189146\n",
      "126  0.09082617839274111\n",
      "129  0.07331342547107006\n",
      "132  0.08022718092285189\n",
      "133  0.1522575944899131\n",
      "134  0.1348823097894596\n",
      "138  0.08676776667955395\n",
      "142  0.11768011668007226\n",
      "144  0.12137987826669117\n",
      "173  0.08724053061142842\n",
      "176  0.07330072732907461\n",
      "182  0.09963348690579284\n",
      "183  0.08910771372137015\n",
      "186  0.11088369447598598\n",
      "187  0.0728117264769459\n",
      "252  0.09781624127202626\n",
      "271  0.0703641149023536\n",
      "275  0.0829489661679015\n",
      "288  0.07019109263850144\n"
     ]
    }
   ],
   "source": [
    "# Not sure if this should be abs or not. Gives the phonon modes which contribute to the distortion.\n",
    "# Perhaps  abs: num modes = num_atoms * 3 (for each dimension) \n",
    "# could be used to analyse (with three-phonon phase space) how efficiently heat will propagate away\n",
    "for (i,item) in enumerate(projections)\n",
    " if abs(item) > 0.07\n",
    "        println(i,\"  \",item)\n",
    "    end\n",
    "    end"
   ]
  },
  {
   "cell_type": "markdown",
   "metadata": {},
   "source": [
    "### Use IPR analysis to investigate these modes more closely\n",
    "\n",
    "- are these modes localised (high amplitude?)\n",
    "- which elements contribute to each mode\n",
    "- We would expect iodine to be very active. Do the modes with a large contriubtion from iodine correspond to the modes which are active in the displacement? (the assumption here is that the defect atom and surrounding iodine are the ones which will distort the most)"
   ]
  },
  {
   "cell_type": "code",
   "execution_count": 49,
   "metadata": {},
   "outputs": [
    {
     "data": {
      "text/plain": [
       "0.022869226122776826"
      ]
     },
     "execution_count": 49,
     "metadata": {},
     "output_type": "execute_result"
    }
   ],
   "source": [
    "(projections[65] / sum(projections))*2"
   ]
  },
  {
   "cell_type": "code",
   "execution_count": 50,
   "metadata": {},
   "outputs": [
    {
     "data": {
      "text/plain": [
       "1.7042442775"
      ]
     },
     "execution_count": 50,
     "metadata": {},
     "output_type": "execute_result"
    }
   ],
   "source": [
    "phonons_negative[2][65]"
   ]
  },
  {
   "cell_type": "code",
   "execution_count": 17,
   "metadata": {},
   "outputs": [
    {
     "ename": "MethodError",
     "evalue": "MethodError: no method matching decompose_eigenmode_atom_contributions(::Main.JuliaPhonons.POSCARtype, ::Float64, ::Array{Float64,2})\nClosest candidates are:\n  decompose_eigenmode_atom_contributions(!Matched::Main.JuliaPhonons.POSCARtype, ::Any, ::Any) at /Users/lucydot/Projects/2018_JuliaPhonons/src/JuliaPhonons.jl:243",
     "output_type": "error",
     "traceback": [
      "MethodError: no method matching decompose_eigenmode_atom_contributions(::Main.JuliaPhonons.POSCARtype, ::Float64, ::Array{Float64,2})\nClosest candidates are:\n  decompose_eigenmode_atom_contributions(!Matched::Main.JuliaPhonons.POSCARtype, ::Any, ::Any) at /Users/lucydot/Projects/2018_JuliaPhonons/src/JuliaPhonons.jl:243",
      "",
      "Stacktrace:",
      " [1] top-level scope at In[17]:4"
     ]
    }
   ],
   "source": [
    "# see \"MAPI_iodine_defect_phonons.ipynb\" and \"MAPI_iodine_defect_stacked_barchart\" for more analysis (in Python...)\n",
    "# but this should be built into Julia workflow\n",
    "mode_num = 3\n",
    "mode_data = JuliaPhonons.decompose_eigenmode_atom_contributions(poscar_negative,phonons_negative[2][mode_num],phonons_negative[1][mode_num])"
   ]
  },
  {
   "cell_type": "markdown",
   "metadata": {},
   "source": [
    "### Calculate the distribution function for neutral and negative phonon modes\n",
    "\n",
    "A delta function means that the modes are unaffected by the change in charge state.\n",
    "- Idea: fit a gaussian to give a width, and use this as a measure? \n"
   ]
  },
  {
   "cell_type": "code",
   "execution_count": 51,
   "metadata": {},
   "outputs": [
    {
     "name": "stderr",
     "output_type": "stream",
     "text": [
      "WARNING: Base.dot is deprecated: it has been moved to the standard library package `LinearAlgebra`.\n",
      "Add `using LinearAlgebra` to your imports.\n",
      "  likely near /Users/lucydot/.julia/packages/IJulia/fRegO/src/kernel.jl:52\n",
      "WARNING: Base.dot is deprecated: it has been moved to the standard library package `LinearAlgebra`.\n",
      "Add `using LinearAlgebra` to your imports.\n",
      "  likely near /Users/lucydot/.julia/packages/IJulia/fRegO/src/kernel.jl:52\n",
      "WARNING: Base.dot is deprecated: it has been moved to the standard library package `LinearAlgebra`.\n",
      "Add `using LinearAlgebra` to your imports.\n",
      "  likely near /Users/lucydot/.julia/packages/IJulia/fRegO/src/kernel.jl:52\n",
      "WARNING: Base.dot is deprecated: it has been moved to the standard library package `LinearAlgebra`.\n",
      "Add `using LinearAlgebra` to your imports.\n",
      "  likely near /Users/lucydot/.julia/packages/IJulia/fRegO/src/kernel.jl:52\n",
      "WARNING: Base.dot is deprecated: it has been moved to the standard library package `LinearAlgebra`.\n",
      "Add `using LinearAlgebra` to your imports.\n",
      "  likely near /Users/lucydot/.julia/packages/IJulia/fRegO/src/kernel.jl:52\n",
      "WARNING: Base.dot is deprecated: it has been moved to the standard library package `LinearAlgebra`.\n",
      "Add `using LinearAlgebra` to your imports.\n",
      "  likely near /Users/lucydot/.julia/packages/IJulia/fRegO/src/kernel.jl:52\n",
      "WARNING: Base.dot is deprecated: it has been moved to the standard library package `LinearAlgebra`.\n",
      "Add `using LinearAlgebra` to your imports.\n",
      "  likely near /Users/lucydot/.julia/packages/IJulia/fRegO/src/kernel.jl:52\n",
      "WARNING: Base.dot is deprecated: it has been moved to the standard library package `LinearAlgebra`.\n",
      "Add `using LinearAlgebra` to your imports.\n",
      "  likely near /Users/lucydot/.julia/packages/IJulia/fRegO/src/kernel.jl:52\n",
      "in top-level scope at In[51]\n"
     ]
    },
    {
     "data": {
      "text/plain": [
       "291×291 Array{Any,2}:\n",
       " 2.67578e-7   0.364643     6.49538e-5   …  7.14937e-11  1.65079e-12\n",
       " 9.24254e-9   0.46886      0.267407        8.72513e-11  3.14329e-10\n",
       " 3.61811e-8   0.166485     0.732525        6.77958e-12  5.52118e-11\n",
       " 0.0292077    6.69461e-7   1.50492e-9      4.05006e-7   0.00016245 \n",
       " 0.0109813    8.41929e-7   8.08201e-7      4.36769e-5   2.4063e-7  \n",
       " 0.00219297   2.42571e-7   8.77881e-7   …  8.37067e-6   1.8654e-5  \n",
       " 0.00884892   6.65466e-7   6.48152e-9      1.41476e-5   2.29365e-5 \n",
       " 0.00506396   3.6485e-8    5.70195e-11     2.86278e-5   6.83268e-5 \n",
       " 0.010684     7.33569e-9   8.17341e-9      2.84863e-5   1.5066e-7  \n",
       " 0.000399789  2.45739e-10  4.78504e-8      8.68955e-6   3.40406e-7 \n",
       " 5.99814e-5   1.18147e-8   1.07367e-7   …  4.62962e-6   4.18371e-6 \n",
       " 9.1087e-5    4.04304e-7   5.29486e-8      1.37814e-5   3.77568e-6 \n",
       " 9.23825e-7   3.50915e-11  1.37067e-8      2.9603e-6    2.09921e-5 \n",
       " ⋮                                      ⋱               ⋮          \n",
       " 5.40418e-8   9.68842e-12  1.5059e-11      0.00850881   4.58494e-7 \n",
       " 1.96951e-6   2.62891e-11  7.73587e-12  …  0.00645287   3.11661e-5 \n",
       " 2.40496e-6   2.13261e-10  1.32284e-10     3.69269e-5   1.83251e-10\n",
       " 2.61704e-8   1.85539e-12  2.7867e-12      0.0139906    2.58295e-6 \n",
       " 4.23576e-7   2.86749e-10  8.24747e-11     0.00013019   0.000297904\n",
       " 1.18767e-6   1.49372e-10  1.46424e-11     3.15718e-5   2.1208e-5  \n",
       " 3.22405e-7   2.53514e-12  2.90439e-12  …  0.0150561    7.35891e-7 \n",
       " 9.43545e-6   2.88782e-10  1.43489e-11     6.6793e-5    2.21759e-6 \n",
       " 1.05364e-6   2.6015e-10   6.85787e-14     0.000480249  0.000671412\n",
       " 1.04698e-5   1.81407e-10  1.83232e-11     9.17088e-6   1.19463e-5 \n",
       " 0.0045344    1.56569e-11  1.65363e-10     2.31714e-5   0.00435253 \n",
       " 0.00527719   1.21329e-11  2.73189e-10  …  1.55866e-6   0.00754043 "
      ]
     },
     "execution_count": 51,
     "metadata": {},
     "output_type": "execute_result"
    }
   ],
   "source": [
    "# idea for the distribution function from https://aip.scitation.org/doi/pdf/10.1063/1.4984833?class=pdf\n",
    "# it projects a mode onto the basis set of another charge state or the perfect cell.\n",
    "# if it is broad across perfect cell modes --> it is a localised state, as it cannot be well described by the delocalised modes of perfect cell\n",
    "\n",
    "distribution_function = []\n",
    "for neut_mode in phonons_neutral[1]\n",
    "    for neg_mode in phonons_negative[1]\n",
    "    push!(distribution_function,(dot(neut_mode,neg_mode)^2))\n",
    "    end\n",
    "end\n",
    "\n",
    "distribution_function = reshape(distribution_function,3*poscar_negative.natoms,3*poscar_neutral.natoms)"
   ]
  },
  {
   "cell_type": "code",
   "execution_count": 53,
   "metadata": {},
   "outputs": [
    {
     "data": {
      "image/png": "[encoded data removed]",
      "text/plain": [
       "Figure(PyObject <Figure size 640x480 with 1 Axes>)"
      ]
     },
     "metadata": {},
     "output_type": "display_data"
    },
    {
     "name": "stderr",
     "output_type": "stream",
     "text": [
      "┌ Warning: `indmax` is deprecated, use `argmax` instead.\n",
      "│   caller = top-level scope at In[53]:8\n",
      "└ @ Core In[53]:8\n"
     ]
    },
    {
     "data": {
      "text/plain": [
       "70"
      ]
     },
     "execution_count": 53,
     "metadata": {},
     "output_type": "execute_result"
    }
   ],
   "source": [
    "## this tells us which modes have shifted up or down in energy\n",
    "\n",
    "i=64\n",
    "\n",
    "PyPlot.bar(1:3*poscar_negative.natoms,distribution_function[:,i])\n",
    "PyPlot.xlabel(\"negative phonon mode\")\n",
    "PyPlot.title(string(\"Neutral phonon mode: \",i))\n",
    "\n"
   ]
  },
  {
   "cell_type": "code",
   "execution_count": 55,
   "metadata": {},
   "outputs": [
    {
     "name": "stderr",
     "output_type": "stream",
     "text": [
      "┌ Warning: `indmax` is deprecated, use `argmax` instead.\n",
      "│   caller = top-level scope at In[55]:1\n",
      "└ @ Core In[55]:1\n"
     ]
    },
    {
     "data": {
      "text/plain": [
       "70"
      ]
     },
     "execution_count": 55,
     "metadata": {},
     "output_type": "execute_result"
    }
   ],
   "source": [
    "indmax(distribution_function[:,i])"
   ]
  },
  {
   "cell_type": "code",
   "execution_count": 146,
   "metadata": {},
   "outputs": [
    {
     "data": {
      "image/png": "[encoded data removed]",
      "text/plain": [
       "PyPlot.Figure(PyObject <Figure size 640x480 with 1 Axes>)"
      ]
     },
     "metadata": {},
     "output_type": "display_data"
    },
    {
     "data": {
      "text/plain": [
       "PyObject <mpl_toolkits.mplot3d.art3d.Poly3DCollection object at 0x246135518>"
      ]
     },
     "execution_count": 146,
     "metadata": {},
     "output_type": "execute_result"
    }
   ],
   "source": [
    "# Plot in 3D\n",
    "# not much documentation, this prob most useful: https://matplotlib.org/gallery/mplot3d/3d_bars.html\n",
    "# Note that arrays should not be Any type as Python does not like\n",
    "\n",
    "A=zeros(3*poscar_neutral.natoms,3*poscar_neutral.natoms)\n",
    "B=zeros(3*poscar_neutral.natoms,3*poscar_neutral.natoms)\n",
    "for i in 1:3*poscar_neutral.natoms\n",
    "A[i,:] = i\n",
    "B[:,i] = i\n",
    "end\n",
    "\n",
    "y=collect(Iterators.flatten(A))\n",
    "x=collect(Iterators.flatten(B))\n",
    "bottom=fill(0,3*poscar_neutral.natoms*3*poscar_neutral.natoms)\n",
    "width=0.01\n",
    "depth=0.01\n",
    "top=convert(Array{Float64,1}, collect(Iterators.flatten(distribution_function)))\n",
    "\n",
    "\n",
    "PyPlot.bar3D(x,y,bottom,width,depth,top)"
   ]
  },
  {
   "cell_type": "code",
   "execution_count": 11,
   "metadata": {},
   "outputs": [
    {
     "data": {
      "image/png": "[encoded data removed]",
      "text/plain": [
       "PyPlot.Figure(PyObject <Figure size 640x480 with 1 Axes>)"
      ]
     },
     "metadata": {},
     "output_type": "display_data"
    },
    {
     "data": {
      "text/plain": [
       "PyObject Text(24,0.5,'g_α')"
      ]
     },
     "execution_count": 11,
     "metadata": {},
     "output_type": "execute_result"
    }
   ],
   "source": [
    "# the cutoff here seems a little bit arbitrary; am I inerpreting the appraoch in Gao et al correctly? - Hmmm, no!\n",
    "\n",
    "\n",
    "g = []\n",
    "for i in 1:poscar_neutral.natoms\n",
    "    # lots going on here. First filter so anything less than 0.05, the cutoff, is not included. Then find the minimum and take reciprocal.\n",
    "    push!(g,maximum(1 ./ minimum(distribution_function[:,i][distribution_function[:,i] .> 0.058])))\n",
    "    end\n",
    "PyPlot.bar(collect(1:poscar_neutral.natoms),convert(Array{Float64,1},g))\n",
    "PyPlot.xlabel(\"neutral phonon mode\")\n",
    "PyPlot.ylabel(\"g_α\")\n"
   ]
  },
  {
   "cell_type": "markdown",
   "metadata": {},
   "source": [
    "### Calculate the distribution function for negative and perfect phonon modes\n",
    "\n",
    "- I think this is more meaningful than the above distribution function\n",
    "- the localised modes are the ones with a small g-value (broad distribution), as they are not well described by the delocalised modes\n",
    "- the challenge is describing the perfect and defect system with the same basis set\n",
    "\n"
   ]
  },
  {
   "cell_type": "code",
   "execution_count": 57,
   "metadata": {},
   "outputs": [
    {
     "name": "stdout",
     "output_type": "stream",
     "text": [
      "Any[289, 290, 291]\n"
     ]
    },
    {
     "name": "stderr",
     "output_type": "stream",
     "text": [
      "┌ Warning: `Array{T, 1}(m::Int) where T` is deprecated, use `Array{T, 1}(undef, m)` instead.\n",
      "│   caller = top-level scope at In[57]:33\n",
      "└ @ Core In[57]:33\n",
      "┌ Warning: `Array{T, 2}(m::Int, n::Int) where T` is deprecated, use `Array{T, 2}(undef, m, n)` instead.\n",
      "│   caller = top-level scope at In[57]:41\n",
      "└ @ Core ./In[57]:41\n"
     ]
    },
    {
     "name": "stdout",
     "output_type": "stream",
     "text": [
      "291,3,97,0\n",
      "290,2,97,0\n",
      "289,1,97,0\n",
      "288,0,97,0\n",
      "287,0,97,0\n",
      "286,0,97,0\n",
      "285,0,97,0\n",
      "284,0,97,0\n",
      "283,0,97,0\n",
      "282,0,97,0\n",
      "281,0,97,0\n",
      "280,0,97,0\n",
      "279,0,97,0\n",
      "278,0,97,0\n",
      "277,0,97,0\n",
      "276,0,97,0\n",
      "275,0,97,0\n",
      "274,0,97,0\n",
      "273,0,97,0\n",
      "272,0,97,0\n",
      "271,0,97,0\n",
      "270,0,97,0\n",
      "269,0,97,0\n",
      "268,0,97,0\n",
      "267,0,97,0\n",
      "266,0,97,0\n",
      "265,0,97,0\n",
      "264,0,97,0\n",
      "263,0,97,0\n",
      "262,0,97,0\n",
      "261,0,97,0\n",
      "260,0,97,0\n",
      "259,0,97,0\n",
      "258,0,97,0\n",
      "257,0,97,0\n",
      "256,0,97,0\n",
      "255,0,97,0\n",
      "254,0,97,0\n",
      "253,0,97,0\n",
      "252,0,97,0\n",
      "251,0,97,0\n",
      "250,0,97,0\n",
      "249,0,97,0\n",
      "248,0,97,0\n",
      "247,0,97,0\n",
      "246,0,97,0\n",
      "245,0,97,0\n",
      "244,0,97,0\n",
      "243,0,97,0\n",
      "242,0,97,0\n",
      "241,0,97,0\n",
      "240,0,97,0\n",
      "239,0,97,0\n",
      "238,0,97,0\n",
      "237,0,97,0\n",
      "236,0,97,0\n",
      "235,0,97,0\n",
      "234,0,97,0\n",
      "233,0,97,0\n",
      "232,0,97,0\n",
      "231,0,97,0\n",
      "230,0,97,0\n",
      "229,0,97,0\n",
      "228,0,97,0\n",
      "227,0,97,0\n",
      "226,0,97,0\n",
      "225,0,97,0\n",
      "224,0,97,0\n",
      "223,0,97,0\n",
      "222,0,97,0\n",
      "221,0,97,0\n",
      "220,0,97,0\n",
      "219,0,97,0\n",
      "218,0,97,0\n",
      "217,0,97,0\n",
      "216,0,97,0\n",
      "215,0,97,0\n",
      "214,0,97,0\n",
      "213,0,97,0\n",
      "212,0,97,0\n",
      "211,0,97,0\n",
      "210,0,97,0\n",
      "209,0,97,0\n",
      "208,0,97,0\n",
      "207,0,97,0\n",
      "206,0,97,0\n",
      "205,0,97,0\n",
      "204,0,97,0\n",
      "203,0,97,0\n",
      "202,0,97,0\n",
      "201,0,97,0\n",
      "200,0,97,0\n",
      "199,0,97,0\n",
      "198,0,97,0\n",
      "197,0,97,0\n",
      "196,0,97,0\n",
      "195,0,97,0\n",
      "194,0,97,0\n",
      "193,0,97,0\n",
      "192,0,97,0\n",
      "191,0,97,0\n",
      "190,0,97,0\n",
      "189,0,97,0\n",
      "188,0,97,0\n",
      "187,0,97,0\n",
      "186,0,97,0\n",
      "185,0,97,0\n",
      "184,0,97,0\n",
      "183,0,97,0\n",
      "182,0,97,0\n",
      "181,0,97,0\n",
      "180,0,97,0\n",
      "179,0,97,0\n",
      "178,0,97,0\n",
      "177,0,97,0\n",
      "176,0,97,0\n",
      "175,0,97,0\n",
      "174,0,97,0\n",
      "173,0,97,0\n",
      "172,0,97,0\n",
      "171,0,97,0\n",
      "170,0,97,0\n",
      "169,0,97,0\n",
      "168,0,97,0\n",
      "167,0,97,0\n",
      "166,0,97,0\n",
      "165,0,97,0\n",
      "164,0,97,0\n",
      "163,0,97,0\n",
      "162,0,97,0\n",
      "161,0,97,0\n",
      "160,0,97,0\n",
      "159,0,97,0\n",
      "158,0,97,0\n",
      "157,0,97,0\n",
      "156,0,97,0\n",
      "155,0,97,0\n",
      "154,0,97,0\n",
      "153,0,97,0\n",
      "152,0,97,0\n",
      "151,0,97,0\n",
      "150,0,97,0\n",
      "149,0,97,0\n",
      "148,0,97,0\n",
      "147,0,97,0\n",
      "146,0,97,0\n",
      "145,0,97,0\n",
      "144,0,97,0\n",
      "143,0,97,0\n",
      "142,0,97,0\n",
      "141,0,97,0\n",
      "140,0,97,0\n",
      "139,0,97,0\n",
      "138,0,97,0\n",
      "137,0,97,0\n",
      "136,0,97,0\n",
      "135,0,97,0\n",
      "134,0,97,0\n",
      "133,0,97,0\n",
      "132,0,97,0\n",
      "131,0,97,0\n",
      "130,0,97,0\n",
      "129,0,97,0\n",
      "128,0,97,0\n",
      "127,0,97,0\n",
      "126,0,97,0\n",
      "125,0,97,0\n",
      "124,0,97,0\n",
      "123,0,97,0\n",
      "122,0,97,0\n",
      "121,0,97,0\n",
      "120,0,97,0\n",
      "119,0,97,0\n",
      "118,0,97,0\n",
      "117,0,97,0\n",
      "116,0,97,0\n",
      "115,0,97,0\n",
      "114,0,97,0\n",
      "113,0,97,0\n",
      "112,0,97,0\n",
      "111,0,97,0\n",
      "110,0,97,0\n",
      "109,0,97,0\n",
      "108,0,97,0\n",
      "107,0,97,0\n",
      "106,0,97,0\n",
      "105,0,97,0\n",
      "104,0,97,0\n",
      "103,0,97,0\n",
      "102,0,97,0\n",
      "101,0,97,0\n",
      "100,0,97,0\n",
      "99,0,97,0\n",
      "98,0,97,0\n",
      "97,0,97,0\n",
      "96,0,97,0\n",
      "95,0,97,0\n",
      "94,0,97,0\n",
      "93,0,97,0\n",
      "92,0,97,0\n",
      "91,0,97,0\n",
      "90,0,97,0\n",
      "89,0,97,0\n",
      "88,0,97,0\n",
      "87,0,97,0\n",
      "86,0,97,0\n",
      "85,0,97,0\n",
      "84,0,97,0\n",
      "83,0,97,0\n",
      "82,0,97,0\n",
      "81,0,97,0\n",
      "80,0,97,0\n",
      "79,0,97,0\n",
      "78,0,97,0\n",
      "77,0,97,0\n",
      "76,0,97,0\n",
      "75,0,97,0\n",
      "74,0,97,0\n",
      "73,0,97,0\n",
      "72,0,97,0\n",
      "71,0,97,0\n",
      "70,0,97,0\n",
      "69,0,97,0\n",
      "68,0,97,0\n",
      "67,0,97,0\n",
      "66,0,97,0\n",
      "65,0,97,0\n",
      "64,0,97,0\n",
      "63,0,97,0\n",
      "62,0,97,0\n",
      "61,0,97,0\n",
      "60,0,97,0\n",
      "59,0,97,0\n",
      "58,0,97,0\n",
      "57,0,97,0\n",
      "56,0,97,0\n",
      "55,0,97,0\n",
      "54,0,97,0\n",
      "53,0,97,0\n",
      "52,0,97,0\n",
      "51,0,97,0\n",
      "50,0,97,0\n",
      "49,0,97,0\n",
      "48,0,97,0\n",
      "47,0,97,0\n",
      "46,0,97,0\n",
      "45,0,97,0\n",
      "44,0,97,0\n",
      "43,0,97,0\n",
      "42,0,97,0\n",
      "41,0,97,0\n",
      "40,0,97,0\n",
      "39,0,97,0\n",
      "38,0,97,0\n",
      "37,0,97,0\n",
      "36,0,97,0\n",
      "35,0,97,0\n",
      "34,0,97,0\n",
      "33,0,97,0\n",
      "32,0,97,0\n",
      "31,0,97,0\n",
      "30,0,97,0\n",
      "29,0,97,0\n",
      "28,0,97,0\n",
      "27,0,97,0\n",
      "26,0,97,0\n",
      "25,0,97,0\n",
      "24,0,97,0\n",
      "23,0,97,0\n",
      "22,0,97,0\n",
      "21,0,97,0\n",
      "20,0,97,0\n",
      "19,0,97,0\n",
      "18,0,97,0\n",
      "17,0,97,0\n",
      "16,0,97,0\n",
      "15,0,97,0\n",
      "14,0,97,0\n",
      "13,0,97,0\n",
      "12,0,97,0\n",
      "11,0,97,0\n",
      "10,0,97,0\n",
      "9,0,97,0\n",
      "8,0,97,0\n",
      "7,0,97,0\n",
      "6,0,97,0\n",
      "5,0,97,0\n",
      "4,0,97,0\n",
      "3,0,97,0\n",
      "2,0,97,0\n",
      "1,0,97,0\n"
     ]
    }
   ],
   "source": [
    "## build the expanded perfect basis set so that it has the same size as the defect supercell basis set.\n",
    "## can have either interstitials or vacancies, not both\n",
    "\n",
    "# TODO: vacancies\n",
    "# TODO: vectorise!\n",
    "# TODO: write tests\n",
    "\n",
    "## User inputs\n",
    "# number of unit cells in defect supercell\n",
    "num_unit_cells = 8\n",
    "# the atom numbers (as appear in POSCAR) of the defect atom\n",
    "defect_atom_index = [97]\n",
    "# the defect type. This can be interstitial or vacancy, but not both (TODO: add both)\n",
    "defect_type = \"interstitial\"\n",
    "\n",
    "\n",
    "# the eigenvector indices are calculated from the position of the defect. There are 3 eigenvectors per atom.\n",
    "defect_eigenvector_index = []\n",
    "for index in defect_atom_index\n",
    "     start=index*3-2\n",
    "     push!(defect_eigenvector_index,start)\n",
    "     push!(defect_eigenvector_index,start+1)\n",
    "     push!(defect_eigenvector_index,start+2)\n",
    "end\n",
    "println(defect_eigenvector_index)\n",
    "\n",
    "# determine the number of atoms in the supercell\n",
    "if defect_type == \"interstitial\"\n",
    "    num_atoms_expanded = (poscar_perfect.natoms*num_unit_cells)+length(defect_atom_index)\n",
    "elseif defect_type == \"vacancy\"\n",
    "    num_atoms_expanded = (poscar_perfect.natoms*num_unit_cells)-length(defect_atom_index)\n",
    "end\n",
    "\n",
    "# the supercell basis set is 3*number of atoms in supercell\n",
    "expanded_basis_set = Array{Any,1}(3*num_atoms_expanded) \n",
    "# keep track of how many defect eigenvectors have been added to the supercell basis\n",
    "defect_eigenvectors_remaining = length(defect_atom_index)*3\n",
    "# iterate through basis set backwards as this will mean index of defect will remain correct\n",
    "for eigenvector_index in reverse(1:length(expanded_basis_set))\n",
    "    # create supercell eigenvector\n",
    "    expanded_eigenvector = Array{Float64,2}(num_atoms_expanded,3)   \n",
    "    # keep track of howm many defect atoms have been added to the eigenvector\n",
    "    defect_atoms_remaining = length(defect_atom_index)\n",
    "    # iterate through eigenvector backwards as this will mean index of defect will remain correct, one element for each atom\n",
    "    for atom_index in reverse(1:(num_atoms_expanded))\n",
    "        # if the atom is an interstital, set the eigenvector element equal to [0,0,0] (not moving in any direction)\n",
    "        if atom_index in defect_atom_index && defect_type==\"interstitial\"          \n",
    "            expanded_eigenvector[atom_index,:]=[0,0,0]\n",
    "            defect_atoms_remaining -= 1     \n",
    "            println(eigenvector_index, \",\", defect_eigenvectors_remaining,\",\",atom_index, \",\",defect_atoms_remaining)\n",
    "        # if the atom is a bulk atom, get the eigenvector from the perfect cell\n",
    "        else\n",
    "            expanded_eigenvector[atom_index,:]=phonons_perfect[1][Int(ceil((eigenvector_index-(defect_eigenvectors_remaining))/num_unit_cells))][Int(ceil((atom_index-defect_atoms_remaining)/num_unit_cells)),:] \n",
    "        end\n",
    "    end \n",
    "    # if the eigenvector is describing a defect, set all components to zero\n",
    "    if eigenvector_index in defect_eigenvector_index\n",
    "        expanded_basis_set[eigenvector_index] = zeros(num_atoms_expanded,3)  \n",
    "        defect_eigenvectors_remaining -= 1\n",
    "    # otherwise, set it to the eigenvector calculated above\n",
    "    else\n",
    "        expanded_basis_set[eigenvector_index] = expanded_eigenvector\n",
    "    end\n",
    "end"
   ]
  },
  {
   "cell_type": "code",
   "execution_count": 58,
   "metadata": {},
   "outputs": [
    {
     "name": "stderr",
     "output_type": "stream",
     "text": [
      "WARNING: Base.dot is deprecated: it has been moved to the standard library package `LinearAlgebra`.\n",
      "Add `using LinearAlgebra` to your imports.\n",
      "  likely near /Users/lucydot/.julia/packages/IJulia/fRegO/src/kernel.jl:52\n",
      "WARNING: Base.dot is deprecated: it has been moved to the standard library package `LinearAlgebra`.\n",
      "Add `using LinearAlgebra` to your imports.\n",
      "  likely near /Users/lucydot/.julia/packages/IJulia/fRegO/src/kernel.jl:52\n",
      "WARNING: Base.dot is deprecated: it has been moved to the standard library package `LinearAlgebra`.\n",
      "Add `using LinearAlgebra` to your imports.\n",
      "  likely near /Users/lucydot/.julia/packages/IJulia/fRegO/src/kernel.jl:52\n",
      "WARNING: Base.dot is deprecated: it has been moved to the standard library package `LinearAlgebra`.\n",
      "Add `using LinearAlgebra` to your imports.\n",
      "  likely near /Users/lucydot/.julia/packages/IJulia/fRegO/src/kernel.jl:52\n",
      "WARNING: Base.dot is deprecated: it has been moved to the standard library package `LinearAlgebra`.\n",
      "Add `using LinearAlgebra` to your imports.\n",
      "  likely near /Users/lucydot/.julia/packages/IJulia/fRegO/src/kernel.jl:52\n",
      "WARNING: Base.dot is deprecated: it has been moved to the standard library package `LinearAlgebra`.\n",
      "Add `using LinearAlgebra` to your imports.\n",
      "  likely near /Users/lucydot/.julia/packages/IJulia/fRegO/src/kernel.jl:52\n",
      "WARNING: Base.dot is deprecated: it has been moved to the standard library package `LinearAlgebra`.\n",
      "Add `using LinearAlgebra` to your imports.\n",
      "  likely near /Users/lucydot/.julia/packages/IJulia/fRegO/src/kernel.jl:52\n",
      "WARNING: Base.dot is deprecated: it has been moved to the standard library package `LinearAlgebra`.\n",
      "Add `using LinearAlgebra` to your imports.\n",
      "  likely near /Users/lucydot/.julia/packages/IJulia/fRegO/src/kernel.jl:52\n",
      "in top-level scope at In[58]\n"
     ]
    },
    {
     "data": {
      "text/plain": [
       "291×291 Array{Any,2}:\n",
       " 0.135776     0.135776     0.135776     …  8.32651e-10  0.0  0.0  0.0\n",
       " 3.77444      3.77444      3.77444         3.775e-9     0.0  0.0  0.0\n",
       " 3.88936      3.88936      3.88936         1.30165e-8   0.0  0.0  0.0\n",
       " 0.0001228    0.0001228    0.0001228       1.27927e-6   0.0  0.0  0.0\n",
       " 0.000565519  0.000565519  0.000565519     0.000728124  0.0  0.0  0.0\n",
       " 0.00075696   0.00075696   0.00075696   …  0.000454047  0.0  0.0  0.0\n",
       " 0.000179366  0.000179366  0.000179366     2.31464e-10  0.0  0.0  0.0\n",
       " 7.06851e-5   7.06851e-5   7.06851e-5      7.10886e-5   0.0  0.0  0.0\n",
       " 0.000938919  0.000938919  0.000938919     8.11974e-8   0.0  0.0  0.0\n",
       " 2.71472e-6   2.71472e-6   2.71472e-6      7.00225e-5   0.0  0.0  0.0\n",
       " 0.00239787   0.00239787   0.00239787   …  0.000231478  0.0  0.0  0.0\n",
       " 0.000298258  0.000298258  0.000298258     2.75143e-6   0.0  0.0  0.0\n",
       " 6.87287e-5   6.87287e-5   6.87287e-5      1.53956e-7   0.0  0.0  0.0\n",
       " ⋮                                      ⋱                         ⋮  \n",
       " 9.02689e-11  9.02689e-11  9.02689e-11     0.000362175  0.0  0.0  0.0\n",
       " 1.27456e-9   1.27456e-9   1.27456e-9   …  0.771402     0.0  0.0  0.0\n",
       " 1.35306e-9   1.35306e-9   1.35306e-9      0.000133586  0.0  0.0  0.0\n",
       " 3.29045e-12  3.29045e-12  3.29045e-12     3.38279e-5   0.0  0.0  0.0\n",
       " 2.75697e-9   2.75697e-9   2.75697e-9      0.567489     0.0  0.0  0.0\n",
       " 1.02137e-8   1.02137e-8   1.02137e-8      0.000676457  0.0  0.0  0.0\n",
       " 6.91182e-10  6.91182e-10  6.91182e-10  …  0.0375038    0.0  0.0  0.0\n",
       " 7.13486e-10  7.13486e-10  7.13486e-10     0.000178171  0.0  0.0  0.0\n",
       " 1.0716e-10   1.0716e-10   1.0716e-10      0.848621     0.0  0.0  0.0\n",
       " 1.01427e-8   1.01427e-8   1.01427e-8      0.25472      0.0  0.0  0.0\n",
       " 3.84839e-11  3.84839e-11  3.84839e-11     0.000126888  0.0  0.0  0.0\n",
       " 3.08772e-9   3.08772e-9   3.08772e-9   …  0.0417365    0.0  0.0  0.0"
      ]
     },
     "execution_count": 58,
     "metadata": {},
     "output_type": "execute_result"
    }
   ],
   "source": [
    "# now we have a perfect basis set we can do the same analysis as above\n",
    "\n",
    "distribution_function = []\n",
    "for perf_mode in expanded_basis_set\n",
    "    for neg_mode in phonons_negative[1]\n",
    "    push!(distribution_function,(dot(perf_mode,neg_mode)^2))\n",
    "    end\n",
    "end\n",
    "\n",
    "distribution_function = reshape(distribution_function,3*poscar_negative.natoms,3*poscar_negative.natoms)"
   ]
  },
  {
   "cell_type": "code",
   "execution_count": 87,
   "metadata": {},
   "outputs": [
    {
     "data": {
      "image/png": "[encoded data removed]",
      "text/plain": [
       "Figure(PyObject <Figure size 640x480 with 1 Axes>)"
      ]
     },
     "metadata": {},
     "output_type": "display_data"
    },
    {
     "name": "stderr",
     "output_type": "stream",
     "text": [
      "┌ Warning: `indmax` is deprecated, use `argmax` instead.\n",
      "│   caller = top-level scope at In[87]:10\n",
      "└ @ Core In[87]:10\n"
     ]
    },
    {
     "data": {
      "text/plain": [
       "229"
      ]
     },
     "execution_count": 87,
     "metadata": {},
     "output_type": "execute_result"
    }
   ],
   "source": [
    "i=234\n",
    "\n",
    "# 16(36) 65*(45) 133*(39) 134*(38) 142(16) 144*(18) 186(22) - these are the ones which contribute to the distotion\n",
    "# * mean that are composed of many perfect modes, so they are localised\n",
    "# but they also have the highest IPR (in brackets)...so this doesnt make sense (smaller IPR means more localised)\n",
    "\n",
    "PyPlot.bar(1:3*poscar_negative.natoms,distribution_function[:,i])  # IS THIS INDEXED CORRECTLY???\n",
    "PyPlot.xlabel(\"perfect phonon mode\")\n",
    "PyPlot.title(string(\"negative phonon mode: \",i))\n",
    "#PyPlot.xlim([0,120])\n",
    "\n",
    "indmax(distribution_function[:,i])\n",
    "    \n"
   ]
  },
  {
   "cell_type": "code",
   "execution_count": 75,
   "metadata": {},
   "outputs": [
    {
     "data": {
      "text/plain": [
       "0.13577551700444512"
      ]
     },
     "execution_count": 75,
     "metadata": {},
     "output_type": "execute_result"
    }
   ],
   "source": [
    "distribution_function[1,8]"
   ]
  },
  {
   "cell_type": "markdown",
   "metadata": {},
   "source": [
    "### very simple comparison; what is the shift in phonon frequency ?"
   ]
  },
  {
   "cell_type": "code",
   "execution_count": 215,
   "metadata": {},
   "outputs": [
    {
     "data": {
      "image/png": "[encoded data removed]",
      "text/plain": [
       "PyPlot.Figure(PyObject <Figure size 640x480 with 1 Axes>)"
      ]
     },
     "metadata": {},
     "output_type": "display_data"
    },
    {
     "data": {
      "text/plain": [
       "PyObject Text(24,0.5,'Negative phonon eigenvalues')"
      ]
     },
     "execution_count": 215,
     "metadata": {},
     "output_type": "execute_result"
    }
   ],
   "source": [
    "## simple comparison - how the eigenvalues have been perturbed by change in charge state\n",
    "\n",
    "PyPlot.plot([0,100],[0,100],color=\"y\")\n",
    "PyPlot.scatter(phonons_neutral[2],phonons_negative[2],marker=\"x\")\n",
    "PyPlot.xlabel(\"Neutral phonon eigenvalues\")\n",
    "PyPlot.ylabel(\"Negative phonon eigenvalues\")"
   ]
  },
  {
   "cell_type": "code",
   "execution_count": null,
   "metadata": {},
   "outputs": [],
   "source": []
  }
 ],
 "metadata": {
  "kernelspec": {
   "display_name": "Julia 0.7.0",
   "language": "julia",
   "name": "julia-0.7"
  },
  "language_info": {
   "file_extension": ".jl",
   "mimetype": "application/julia",
   "name": "julia",
   "version": "0.7.0"
  }
 },
 "nbformat": 4,
 "nbformat_minor": 2
}
