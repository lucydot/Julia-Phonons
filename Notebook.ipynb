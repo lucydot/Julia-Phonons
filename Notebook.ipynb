{
 "cells": [
  {
   "cell_type": "code",
   "execution_count": 3,
   "metadata": {},
   "outputs": [
    {
     "ename": "LoadError",
     "evalue": "syntax: extra token \"POSCARtype\" after end of expression",
     "output_type": "error",
     "traceback": [
      "syntax: extra token \"POSCARtype\" after end of expression",
      "",
      "Stacktrace:",
      " [1] include at ./boot.jl:317 [inlined]",
      " [2] include_relative(::Module, ::String) at ./loading.jl:1038",
      " [3] include(::Module, ::String) at ./sysimg.jl:29",
      " [4] include(::String) at ./client.jl:388",
      " [5] top-level scope at In[3]:1"
     ]
    }
   ],
   "source": [
    "include(\"src/JuliaPhonons.jl\")"
   ]
  },
  {
   "cell_type": "code",
   "execution_count": null,
   "metadata": {},
   "outputs": [],
   "source": []
  }
 ],
 "metadata": {
  "kernelspec": {
   "display_name": "Julia 1.0.0",
   "language": "julia",
   "name": "julia-1.0"
  },
  "language_info": {
   "file_extension": ".jl",
   "mimetype": "application/julia",
   "name": "julia",
   "version": "1.0.0"
  }
 },
 "nbformat": 4,
 "nbformat_minor": 2
}
