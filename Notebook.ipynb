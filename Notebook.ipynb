{
 "cells": [
  {
   "cell_type": "code",
   "execution_count": 1,
   "metadata": {},
   "outputs": [],
   "source": [
    "include(\"src/JuliaPhonons.jl\")\n",
    "using JuliaPhonons\n",
    "using PyPlot"
   ]
  },
  {
   "cell_type": "code",
   "execution_count": 2,
   "metadata": {},
   "outputs": [
    {
     "name": "stderr",
     "output_type": "stream",
     "text": [
      "[12.5743 0.000853903 0.137524; 0.000141603 12.4741 -0.000835312; 0.138595 -1.31954e-5 12.7567]\n",
      "Volume: 2000.6757668208738\n",
      "SubString{String}[\"C\", \"N\", \"H\", \"Pb\", \"I\"]\n",
      "POSCAR.natoms: 97\n",
      "AbstractString[\"C\", \"C\", \"C\", \"C\", \"C\", \"C\", \"C\", \"C\", \"N\", \"N\", \"N\", \"N\", \"N\", \"N\", \"N\", \"N\", \"H\", \"H\", \"H\", \"H\", \"H\", \"H\", \"H\", \"H\", \"H\", \"H\", \"H\", \"H\", \"H\", \"H\", \"H\", \"H\", \"H\", \"H\", \"H\", \"H\", \"H\", \"H\", \"H\", \"H\", \"H\", \"H\", \"H\", \"H\", \"H\", \"H\", \"H\", \"H\", \"H\", \"H\", \"H\", \"H\", \"H\", \"H\", \"H\", \"H\", \"H\", \"H\", \"H\", \"H\", \"H\", \"H\", \"H\", \"H\", \"Pb\", \"Pb\", \"Pb\", \"Pb\", \"Pb\", \"Pb\", \"Pb\", \"Pb\", \"I\", \"I\", \"I\", \"I\", \"I\", \"I\", \"I\", \"I\", \"I\", \"I\", \"I\", \"I\", \"I\", \"I\", \"I\", \"I\", \"I\", \"I\", \"I\", \"I\", \"I\", \"I\", \"I\", \"I\", \"I\"]\n",
      "supercellexpansions ==>Array{Float64,1}[[0.0, 0.0, 0.0]]\n",
      "[12.5743 0.000853903 0.137524; 0.000141603 12.4741 -0.000835312; 0.138595 -1.31954e-5 12.7567]\n",
      "Volume: 2000.6757668208738\n",
      "SubString{String}[\"C\", \"N\", \"H\", \"Pb\", \"I\"]\n",
      "POSCAR.natoms: 97\n",
      "AbstractString[\"C\", \"C\", \"C\", \"C\", \"C\", \"C\", \"C\", \"C\", \"N\", \"N\", \"N\", \"N\", \"N\", \"N\", \"N\", \"N\", \"H\", \"H\", \"H\", \"H\", \"H\", \"H\", \"H\", \"H\", \"H\", \"H\", \"H\", \"H\", \"H\", \"H\", \"H\", \"H\", \"H\", \"H\", \"H\", \"H\", \"H\", \"H\", \"H\", \"H\", \"H\", \"H\", \"H\", \"H\", \"H\", \"H\", \"H\", \"H\", \"H\", \"H\", \"H\", \"H\", \"H\", \"H\", \"H\", \"H\", \"H\", \"H\", \"H\", \"H\", \"H\", \"H\", \"H\", \"H\", \"Pb\", \"Pb\", \"Pb\", \"Pb\", \"Pb\", \"Pb\", \"Pb\", \"Pb\", \"I\", \"I\", \"I\", \"I\", \"I\", \"I\", \"I\", \"I\", \"I\", \"I\", \"I\", \"I\", \"I\", \"I\", \"I\", \"I\", \"I\", \"I\", \"I\", \"I\", \"I\", \"I\", \"I\", \"I\", \"I\"]\n",
      "supercellexpansions ==>Array{Float64,1}[[0.0, 0.0, 0.0]]\n"
     ]
    },
    {
     "data": {
      "text/plain": [
       "(Any[[0.0295856 -0.0357804 0.0132983; 0.0298501 -0.0359258 0.0136408; … ; 0.0962323 -0.117106 0.043828; 0.0962382 -0.116914 0.0456438], [0.016442 0.0275918 0.0364581; 0.0164723 0.0275497 0.0364279; … ; 0.0540134 0.0896803 0.118267; 0.054125 0.089651 0.118462], [0.0347007 0.0175664 -0.0290669; 0.0347265 0.0175828 -0.0292186; … ; 0.113067 0.0569578 -0.094388; 0.113058 0.0569159 -0.0944499], [-0.0223523 -0.0235597 0.000910907; -0.0136128 -0.015645 0.0413655; … ; -0.0274621 0.0505526 -0.0728979; 0.000746735 0.0259993 0.0102076], [-0.00642863 0.0365534 0.0283027; -0.00853109 -0.0144427 -0.0171581; … ; 0.0223064 -0.00867779 -0.0198539; 0.0381864 0.000521586 0.331415], [-0.0229039 -0.00815617 0.0111612; 0.00475894 0.00918921 -0.000793227; … ; 0.0841561 -0.00800914 0.116315; 0.0915316 0.000347784 -0.0207839], [-0.0248397 -0.00162594 0.0609371; 0.00784605 -0.00257302 -0.0129772; … ; 0.00254378 -0.203703 -0.105275; -0.000635289 -0.037887 -0.00375822], [-0.0219231 -0.0181482 0.00988558; -0.0152324 0.00174528 -0.0400027; … ; -0.0351653 3.70446e-6 0.0686568; -0.03231 0.000957951 0.183685], [-0.0183765 -0.0299566 -0.0396041; 0.00233457 -0.0282138 -0.00989345; … ; -0.0378682 0.156875 0.0644503; -0.00103654 0.0909402 0.00170867], [-0.0280392 -0.00304621 -0.0331423; -0.0316308 -0.0118056 -0.00536172; … ; -0.0368586 -0.0236989 -0.161426; 0.0120236 -0.00244149 0.036033]  …  [-0.000102319 9.93091e-5 -5.47973e-5; -0.000223678 -0.000200687 -0.000465278; … ; -3.8553e-5 -3.49695e-5 1.21515e-5; 1.84523e-6 -7.34232e-5 6.00513e-7], [2.36983e-5 7.85074e-7 4.02718e-5; -1.39544e-5 -3.25863e-5 -8.2671e-5; … ; 2.98122e-5 2.63858e-5 -2.31089e-5; -1.80073e-6 2.08607e-6 -7.53572e-7], [-0.000142759 0.000393706 -0.000193809; 0.000407605 0.000259538 0.000940013; … ; -0.000131397 -7.51116e-5 2.88327e-6; 0.000149456 -2.10846e-6 -6.04384e-5], [0.000184509 0.000559107 0.000126985; -0.000320702 -0.000421406 -0.000821872; … ; -9.45313e-5 -0.000110906 2.64152e-5; -6.4087e-7 -0.000296201 -1.28167e-6], [-0.00059758 -0.000839881 -0.000383672; 3.48282e-5 -0.0001567 0.000196491; … ; 1.09749e-5 -1.6965e-5 -1.00697e-5; -6.29256e-5 6.20596e-6 -5.26918e-5], [0.00534249 0.0110017 0.00257424; -4.01589e-5 0.000217215 3.70368e-5; … ; 8.35392e-5 0.000169745 0.000215447; -3.32399e-6 2.42512e-5 1.99676e-6], [-0.000243878 -0.000331419 5.03857e-5; -0.000398295 -0.000548162 -0.000989261; … ; 0.000151667 6.63668e-5 -7.85084e-6; -3.49152e-5 -1.3291e-5 -6.59332e-6], [0.00421728 0.0103819 0.00243401; 7.16256e-5 -0.000795408 -3.82442e-6; … ; -9.39167e-6 -0.000131279 -0.00017188; -6.27993e-5 -1.43119e-6 5.4382e-5], [-0.000143224 -1.42498e-5 -8.11077e-5; -0.00183822 -0.0109903 -0.000409134; … ; 1.03751e-6 2.33541e-5 -1.54219e-6; 1.73887e-6 2.14606e-5 9.62805e-7], [7.71203e-5 0.000413138 2.48506e-5; 0.00208678 0.0117742 0.00045891; … ; -2.92296e-5 -1.43378e-5 1.56537e-6; 4.10044e-5 -7.95273e-7 2.45689e-5]], [-0.00495675, -0.00159766, -0.00015613, 0.246591, 0.30966, 0.393097, 0.48534, 0.511647, 0.532928, 0.540109  …  93.9753, 94.2163, 94.3255, 94.653, 94.7089, 94.823, 94.9149, 95.11, 96.4143, 96.5109])"
      ]
     },
     "execution_count": 2,
     "metadata": {},
     "output_type": "execute_result"
    }
   ],
   "source": [
    "poscar_neutral = JuliaPhonons.read_POSCAR(open(\"./examples/MAPI_H_centre/neutral_POSCAR\"))\n",
    "poscar_negative = JuliaPhonons.read_POSCAR(open(\"./examples/MAPI_H_centre/negative_POSCAR\"))\n",
    "phonons_neutral = JuliaPhonons.read_meshyaml(open(\"./examples/MAPI_H_centre/neutral_mesh.yaml\"),poscar_neutral)\n",
    "phonons_negative = JuliaPhonons.read_meshyaml(open(\"./examples/MAPI_H_centre/negative_mesh.yaml\"),poscar_negative)\n"
   ]
  },
  {
   "cell_type": "code",
   "execution_count": 40,
   "metadata": {},
   "outputs": [
    {
     "data": {
      "text/plain": [
       "3-element Array{Float64,1}:\n",
       " 0.224042\n",
       " 0.984278\n",
       " 0.988226"
      ]
     },
     "execution_count": 40,
     "metadata": {},
     "output_type": "execute_result"
    }
   ],
   "source": [
    "poscar_neutral.positions[93,:]"
   ]
  },
  {
   "cell_type": "code",
   "execution_count": 41,
   "metadata": {},
   "outputs": [
    {
     "data": {
      "text/plain": [
       "3-element Array{Float64,1}:\n",
       "  0.22951   \n",
       " -8.20476e-6\n",
       "  0.939492  "
      ]
     },
     "execution_count": 41,
     "metadata": {},
     "output_type": "execute_result"
    }
   ],
   "source": [
    "poscar_negative.positions[93,:]"
   ]
  },
  {
   "cell_type": "code",
   "execution_count": 47,
   "metadata": {},
   "outputs": [
    {
     "data": {
      "text/plain": [
       "0.9842866553750718"
      ]
     },
     "execution_count": 47,
     "metadata": {},
     "output_type": "execute_result"
    }
   ],
   "source": [
    "(poscar_neutral.positions[93,2] -poscar_negative.positions[93,2])"
   ]
  },
  {
   "cell_type": "code",
   "execution_count": 48,
   "metadata": {},
   "outputs": [
    {
     "data": {
      "text/plain": [
       "-0.9842866553750718"
      ]
     },
     "execution_count": 48,
     "metadata": {},
     "output_type": "execute_result"
    }
   ],
   "source": [
    "(poscar_negative.positions[93,2]-poscar_neutral.positions[93,2])"
   ]
  },
  {
   "cell_type": "code",
   "execution_count": 60,
   "metadata": {},
   "outputs": [],
   "source": [
    "displacement =  poscar_neutral.positions.-poscar_negative.positions \n",
    "\n",
    "# check to see if any that shifted more than half a unit cell - in this case it is more likely \n",
    "# that moved into a neighbouring cell.\n",
    "# I have been careful to define this so that if the start and end points are interchanged the displacement stays the same.\n",
    "for i = 1:size(displacement,2)\n",
    "    for j = 1:size(displacement,1)\n",
    "        if (displacement[j,i]) > 0.5\n",
    "            displacement[j,i] = 1-(displacement[j,i])\n",
    "            \n",
    "        end\n",
    "        if (displacement[j,i]) < -0.5\n",
    "            displacement[j,i] = -1-(displacement[j,i])\n",
    "            \n",
    "        end\n",
    "    end\n",
    "end\n"
   ]
  },
  {
   "cell_type": "code",
   "execution_count": 61,
   "metadata": {},
   "outputs": [],
   "source": [
    "# scalar projection https://en.wikipedia.org/wiki/Dot_product\n",
    "projections = []\n",
    "for eigenvector in phonons_negative[1]   # projecting onto negative as these are stable imaginary in neutral phonon :(\n",
    "    push!(projections,dot(displacement,eigenvector))\n",
    "end"
   ]
  },
  {
   "cell_type": "code",
   "execution_count": 62,
   "metadata": {
    "scrolled": false
   },
   "outputs": [
    {
     "data": {
      "image/png": "[encoded data removed]",
      "text/plain": [
       "PyPlot.Figure(PyObject <Figure size 640x480 with 1 Axes>)"
      ]
     },
     "metadata": {},
     "output_type": "display_data"
    },
    {
     "data": {
      "text/plain": [
       "(PyObject <matplotlib.patches.Rectangle object at 0x13679d990>, PyObject <matplotlib.patches.Rectangle object at 0x13679d690>, PyObject <matplotlib.patches.Rectangle object at 0x13679dd10>, PyObject <matplotlib.patches.Rectangle object at 0x1367b7110>, PyObject <matplotlib.patches.Rectangle object at 0x1367b7450>, PyObject <matplotlib.patches.Rectangle object at 0x1367b77d0>, PyObject <matplotlib.patches.Rectangle object at 0x1367b7b50>, PyObject <matplotlib.patches.Rectangle object at 0x1367b7ed0>, PyObject <matplotlib.patches.Rectangle object at 0x1368d8290>, PyObject <matplotlib.patches.Rectangle object at 0x1368d8610>, PyObject <matplotlib.patches.Rectangle object at 0x1368d8990>, PyObject <matplotlib.patches.Rectangle object at 0x1368d8d10>, PyObject <matplotlib.patches.Rectangle object at 0x1368e20d0>, PyObject <matplotlib.patches.Rectangle object at 0x1368e2450>, PyObject <matplotlib.patches.Rectangle object at 0x1368e27d0>, PyObject <matplotlib.patches.Rectangle object at 0x1368e2b50>, PyObject <matplotlib.patches.Rectangle object at 0x1368e2ed0>, PyObject <matplotlib.patches.Rectangle object at 0x1368ef290>, PyObject <matplotlib.patches.Rectangle object at 0x1368ef610>, PyObject <matplotlib.patches.Rectangle object at 0x1368ef990>, PyObject <matplotlib.patches.Rectangle object at 0x1368efd10>, PyObject <matplotlib.patches.Rectangle object at 0x1368f90d0>, PyObject <matplotlib.patches.Rectangle object at 0x1368f9450>, PyObject <matplotlib.patches.Rectangle object at 0x1368f97d0>, PyObject <matplotlib.patches.Rectangle object at 0x1368f9b50>, PyObject <matplotlib.patches.Rectangle object at 0x1368f9ed0>, PyObject <matplotlib.patches.Rectangle object at 0x136904290>, PyObject <matplotlib.patches.Rectangle object at 0x136904610>, PyObject <matplotlib.patches.Rectangle object at 0x136904990>, PyObject <matplotlib.patches.Rectangle object at 0x136904d10>, PyObject <matplotlib.patches.Rectangle object at 0x1369110d0>, PyObject <matplotlib.patches.Rectangle object at 0x136911450>, PyObject <matplotlib.patches.Rectangle object at 0x1369117d0>, PyObject <matplotlib.patches.Rectangle object at 0x136911b50>, PyObject <matplotlib.patches.Rectangle object at 0x136911ed0>, PyObject <matplotlib.patches.Rectangle object at 0x13691d290>, PyObject <matplotlib.patches.Rectangle object at 0x13691d610>, PyObject <matplotlib.patches.Rectangle object at 0x13691d990>, PyObject <matplotlib.patches.Rectangle object at 0x13691dd10>, PyObject <matplotlib.patches.Rectangle object at 0x1369270d0>, PyObject <matplotlib.patches.Rectangle object at 0x136927450>, PyObject <matplotlib.patches.Rectangle object at 0x1369277d0>, PyObject <matplotlib.patches.Rectangle object at 0x136927b50>, PyObject <matplotlib.patches.Rectangle object at 0x136927ed0>, PyObject <matplotlib.patches.Rectangle object at 0x136933290>, PyObject <matplotlib.patches.Rectangle object at 0x136933610>, PyObject <matplotlib.patches.Rectangle object at 0x136933990>, PyObject <matplotlib.patches.Rectangle object at 0x136933d10>, PyObject <matplotlib.patches.Rectangle object at 0x13693d0d0>, PyObject <matplotlib.patches.Rectangle object at 0x13693d450>, PyObject <matplotlib.patches.Rectangle object at 0x13693d7d0>, PyObject <matplotlib.patches.Rectangle object at 0x13693db50>, PyObject <matplotlib.patches.Rectangle object at 0x13693ded0>, PyObject <matplotlib.patches.Rectangle object at 0x13694a290>, PyObject <matplotlib.patches.Rectangle object at 0x13694a610>, PyObject <matplotlib.patches.Rectangle object at 0x13694a990>, PyObject <matplotlib.patches.Rectangle object at 0x13694ad10>, PyObject <matplotlib.patches.Rectangle object at 0x1369560d0>, PyObject <matplotlib.patches.Rectangle object at 0x136956450>, PyObject <matplotlib.patches.Rectangle object at 0x1369567d0>, PyObject <matplotlib.patches.Rectangle object at 0x136956b50>, PyObject <matplotlib.patches.Rectangle object at 0x136956ed0>, PyObject <matplotlib.patches.Rectangle object at 0x136962290>, PyObject <matplotlib.patches.Rectangle object at 0x136962610>, PyObject <matplotlib.patches.Rectangle object at 0x136962990>, PyObject <matplotlib.patches.Rectangle object at 0x136962d10>, PyObject <matplotlib.patches.Rectangle object at 0x13696f0d0>, PyObject <matplotlib.patches.Rectangle object at 0x13696f450>, PyObject <matplotlib.patches.Rectangle object at 0x13696f7d0>, PyObject <matplotlib.patches.Rectangle object at 0x13696fb50>, PyObject <matplotlib.patches.Rectangle object at 0x13696fed0>, PyObject <matplotlib.patches.Rectangle object at 0x13697c290>, PyObject <matplotlib.patches.Rectangle object at 0x13697c610>, PyObject <matplotlib.patches.Rectangle object at 0x13697c990>, PyObject <matplotlib.patches.Rectangle object at 0x13697cd10>, PyObject <matplotlib.patches.Rectangle object at 0x1369870d0>, PyObject <matplotlib.patches.Rectangle object at 0x136987450>, PyObject <matplotlib.patches.Rectangle object at 0x1369877d0>, PyObject <matplotlib.patches.Rectangle object at 0x136987b50>, PyObject <matplotlib.patches.Rectangle object at 0x136987ed0>, PyObject <matplotlib.patches.Rectangle object at 0x136995290>, PyObject <matplotlib.patches.Rectangle object at 0x136995610>, PyObject <matplotlib.patches.Rectangle object at 0x136995990>, PyObject <matplotlib.patches.Rectangle object at 0x136995d10>, PyObject <matplotlib.patches.Rectangle object at 0x1369a10d0>, PyObject <matplotlib.patches.Rectangle object at 0x1369a1450>, PyObject <matplotlib.patches.Rectangle object at 0x1369a17d0>, PyObject <matplotlib.patches.Rectangle object at 0x1369a1b50>, PyObject <matplotlib.patches.Rectangle object at 0x1369a1ed0>, PyObject <matplotlib.patches.Rectangle object at 0x1369ad290>, PyObject <matplotlib.patches.Rectangle object at 0x1369ad610>, PyObject <matplotlib.patches.Rectangle object at 0x1369ad990>, PyObject <matplotlib.patches.Rectangle object at 0x1369add10>, PyObject <matplotlib.patches.Rectangle object at 0x1369ba0d0>, PyObject <matplotlib.patches.Rectangle object at 0x1369ba450>, PyObject <matplotlib.patches.Rectangle object at 0x1369ba7d0>, PyObject <matplotlib.patches.Rectangle object at 0x1369bab50>, PyObject <matplotlib.patches.Rectangle object at 0x1369baed0>, PyObject <matplotlib.patches.Rectangle object at 0x1369c5290>, PyObject <matplotlib.patches.Rectangle object at 0x1369c5610>, PyObject <matplotlib.patches.Rectangle object at 0x1369c5990>, PyObject <matplotlib.patches.Rectangle object at 0x1369c5d10>, PyObject <matplotlib.patches.Rectangle object at 0x1369d30d0>, PyObject <matplotlib.patches.Rectangle object at 0x1369d3450>, PyObject <matplotlib.patches.Rectangle object at 0x1369d37d0>, PyObject <matplotlib.patches.Rectangle object at 0x1369d3b50>, PyObject <matplotlib.patches.Rectangle object at 0x1369d3ed0>, PyObject <matplotlib.patches.Rectangle object at 0x1369e1290>, PyObject <matplotlib.patches.Rectangle object at 0x1369e1610>, PyObject <matplotlib.patches.Rectangle object at 0x1369e1990>, PyObject <matplotlib.patches.Rectangle object at 0x1369e1d10>, PyObject <matplotlib.patches.Rectangle object at 0x1369ed0d0>, PyObject <matplotlib.patches.Rectangle object at 0x1369ed450>, PyObject <matplotlib.patches.Rectangle object at 0x1369ed7d0>, PyObject <matplotlib.patches.Rectangle object at 0x1369edb50>, PyObject <matplotlib.patches.Rectangle object at 0x1369eded0>, PyObject <matplotlib.patches.Rectangle object at 0x1369f9290>, PyObject <matplotlib.patches.Rectangle object at 0x1369f9610>, PyObject <matplotlib.patches.Rectangle object at 0x1369f9990>, PyObject <matplotlib.patches.Rectangle object at 0x1369f9d10>, PyObject <matplotlib.patches.Rectangle object at 0x136a050d0>, PyObject <matplotlib.patches.Rectangle object at 0x136a05450>, PyObject <matplotlib.patches.Rectangle object at 0x136a057d0>, PyObject <matplotlib.patches.Rectangle object at 0x136a05b50>, PyObject <matplotlib.patches.Rectangle object at 0x136a05ed0>, PyObject <matplotlib.patches.Rectangle object at 0x136a11290>, PyObject <matplotlib.patches.Rectangle object at 0x136a11610>, PyObject <matplotlib.patches.Rectangle object at 0x136a11990>, PyObject <matplotlib.patches.Rectangle object at 0x136a11d10>, PyObject <matplotlib.patches.Rectangle object at 0x136a1f0d0>, PyObject <matplotlib.patches.Rectangle object at 0x136a1f450>, PyObject <matplotlib.patches.Rectangle object at 0x136a1f7d0>, PyObject <matplotlib.patches.Rectangle object at 0x136a1fb50>, PyObject <matplotlib.patches.Rectangle object at 0x136a1fed0>, PyObject <matplotlib.patches.Rectangle object at 0x136a2b290>, PyObject <matplotlib.patches.Rectangle object at 0x136a2b610>, PyObject <matplotlib.patches.Rectangle object at 0x136a2b990>, PyObject <matplotlib.patches.Rectangle object at 0x136a2bd10>, PyObject <matplotlib.patches.Rectangle object at 0x136a370d0>, PyObject <matplotlib.patches.Rectangle object at 0x136a37450>, PyObject <matplotlib.patches.Rectangle object at 0x136a377d0>, PyObject <matplotlib.patches.Rectangle object at 0x136a37b50>, PyObject <matplotlib.patches.Rectangle object at 0x136a37ed0>, PyObject <matplotlib.patches.Rectangle object at 0x136a44290>, PyObject <matplotlib.patches.Rectangle object at 0x136a44610>, PyObject <matplotlib.patches.Rectangle object at 0x136a44990>, PyObject <matplotlib.patches.Rectangle object at 0x136a44d10>, PyObject <matplotlib.patches.Rectangle object at 0x136a500d0>, PyObject <matplotlib.patches.Rectangle object at 0x136a50450>, PyObject <matplotlib.patches.Rectangle object at 0x136a507d0>, PyObject <matplotlib.patches.Rectangle object at 0x136a50b50>, PyObject <matplotlib.patches.Rectangle object at 0x136a50ed0>, PyObject <matplotlib.patches.Rectangle object at 0x136a5c290>, PyObject <matplotlib.patches.Rectangle object at 0x136a5c610>, PyObject <matplotlib.patches.Rectangle object at 0x136a5c990>, PyObject <matplotlib.patches.Rectangle object at 0x136a5cd10>, PyObject <matplotlib.patches.Rectangle object at 0x136a690d0>, PyObject <matplotlib.patches.Rectangle object at 0x136a69450>, PyObject <matplotlib.patches.Rectangle object at 0x136a697d0>, PyObject <matplotlib.patches.Rectangle object at 0x136a69b50>, PyObject <matplotlib.patches.Rectangle object at 0x136a69ed0>, PyObject <matplotlib.patches.Rectangle object at 0x136a76290>, PyObject <matplotlib.patches.Rectangle object at 0x136a76610>, PyObject <matplotlib.patches.Rectangle object at 0x136a76990>, PyObject <matplotlib.patches.Rectangle object at 0x136a76d10>, PyObject <matplotlib.patches.Rectangle object at 0x136a820d0>, PyObject <matplotlib.patches.Rectangle object at 0x136a82450>, PyObject <matplotlib.patches.Rectangle object at 0x136a827d0>, PyObject <matplotlib.patches.Rectangle object at 0x136a82b50>, PyObject <matplotlib.patches.Rectangle object at 0x136a82ed0>, PyObject <matplotlib.patches.Rectangle object at 0x136a8f290>, PyObject <matplotlib.patches.Rectangle object at 0x136a8f610>, PyObject <matplotlib.patches.Rectangle object at 0x136a8f990>, PyObject <matplotlib.patches.Rectangle object at 0x136a8fd10>, PyObject <matplotlib.patches.Rectangle object at 0x136a9b0d0>, PyObject <matplotlib.patches.Rectangle object at 0x136a9b450>, PyObject <matplotlib.patches.Rectangle object at 0x136a9b7d0>, PyObject <matplotlib.patches.Rectangle object at 0x136a9bb50>, PyObject <matplotlib.patches.Rectangle object at 0x136a9bed0>, PyObject <matplotlib.patches.Rectangle object at 0x136aa8290>, PyObject <matplotlib.patches.Rectangle object at 0x136aa8610>, PyObject <matplotlib.patches.Rectangle object at 0x136aa8990>, PyObject <matplotlib.patches.Rectangle object at 0x136aa8d10>, PyObject <matplotlib.patches.Rectangle object at 0x136ab50d0>, PyObject <matplotlib.patches.Rectangle object at 0x136ab5450>, PyObject <matplotlib.patches.Rectangle object at 0x136ab57d0>, PyObject <matplotlib.patches.Rectangle object at 0x136ab5b50>, PyObject <matplotlib.patches.Rectangle object at 0x136ab5ed0>, PyObject <matplotlib.patches.Rectangle object at 0x136ac1290>, PyObject <matplotlib.patches.Rectangle object at 0x136ac1610>, PyObject <matplotlib.patches.Rectangle object at 0x136ac1990>, PyObject <matplotlib.patches.Rectangle object at 0x136ac1d10>, PyObject <matplotlib.patches.Rectangle object at 0x136acd0d0>, PyObject <matplotlib.patches.Rectangle object at 0x136acd450>, PyObject <matplotlib.patches.Rectangle object at 0x136acd7d0>, PyObject <matplotlib.patches.Rectangle object at 0x136acdb50>, PyObject <matplotlib.patches.Rectangle object at 0x136acded0>, PyObject <matplotlib.patches.Rectangle object at 0x136ad9290>, PyObject <matplotlib.patches.Rectangle object at 0x136ad9610>, PyObject <matplotlib.patches.Rectangle object at 0x136ad9990>, PyObject <matplotlib.patches.Rectangle object at 0x136ad9d10>, PyObject <matplotlib.patches.Rectangle object at 0x136ae60d0>, PyObject <matplotlib.patches.Rectangle object at 0x136ae6450>, PyObject <matplotlib.patches.Rectangle object at 0x136ae67d0>, PyObject <matplotlib.patches.Rectangle object at 0x136ae6b50>, PyObject <matplotlib.patches.Rectangle object at 0x136ae6ed0>, PyObject <matplotlib.patches.Rectangle object at 0x136af3290>, PyObject <matplotlib.patches.Rectangle object at 0x136af3610>, PyObject <matplotlib.patches.Rectangle object at 0x136af3990>, PyObject <matplotlib.patches.Rectangle object at 0x136af3d10>, PyObject <matplotlib.patches.Rectangle object at 0x136aff0d0>, PyObject <matplotlib.patches.Rectangle object at 0x136aff450>, PyObject <matplotlib.patches.Rectangle object at 0x136aff7d0>, PyObject <matplotlib.patches.Rectangle object at 0x136affb50>, PyObject <matplotlib.patches.Rectangle object at 0x136affed0>, PyObject <matplotlib.patches.Rectangle object at 0x136b0b290>, PyObject <matplotlib.patches.Rectangle object at 0x136b0b610>, PyObject <matplotlib.patches.Rectangle object at 0x136b0b990>, PyObject <matplotlib.patches.Rectangle object at 0x136b0bd10>, PyObject <matplotlib.patches.Rectangle object at 0x136b190d0>, PyObject <matplotlib.patches.Rectangle object at 0x136b19450>, PyObject <matplotlib.patches.Rectangle object at 0x136b197d0>, PyObject <matplotlib.patches.Rectangle object at 0x136b19b50>, PyObject <matplotlib.patches.Rectangle object at 0x136b19ed0>, PyObject <matplotlib.patches.Rectangle object at 0x136b24290>, PyObject <matplotlib.patches.Rectangle object at 0x136b24610>, PyObject <matplotlib.patches.Rectangle object at 0x136b24990>, PyObject <matplotlib.patches.Rectangle object at 0x136b24d10>, PyObject <matplotlib.patches.Rectangle object at 0x136b2f0d0>, PyObject <matplotlib.patches.Rectangle object at 0x136b2f450>, PyObject <matplotlib.patches.Rectangle object at 0x136b2f7d0>, PyObject <matplotlib.patches.Rectangle object at 0x136b2fb50>, PyObject <matplotlib.patches.Rectangle object at 0x136b2fed0>, PyObject <matplotlib.patches.Rectangle object at 0x136b3e290>, PyObject <matplotlib.patches.Rectangle object at 0x136b3e610>, PyObject <matplotlib.patches.Rectangle object at 0x136b3e990>, PyObject <matplotlib.patches.Rectangle object at 0x136b3ed10>, PyObject <matplotlib.patches.Rectangle object at 0x136b4b0d0>, PyObject <matplotlib.patches.Rectangle object at 0x136b4b450>, PyObject <matplotlib.patches.Rectangle object at 0x136b4b7d0>, PyObject <matplotlib.patches.Rectangle object at 0x136b4bb50>, PyObject <matplotlib.patches.Rectangle object at 0x136b4bed0>, PyObject <matplotlib.patches.Rectangle object at 0x136b57290>, PyObject <matplotlib.patches.Rectangle object at 0x136b57610>, PyObject <matplotlib.patches.Rectangle object at 0x136b57990>, PyObject <matplotlib.patches.Rectangle object at 0x136b57d10>, PyObject <matplotlib.patches.Rectangle object at 0x136b630d0>, PyObject <matplotlib.patches.Rectangle object at 0x136b63450>, PyObject <matplotlib.patches.Rectangle object at 0x136b637d0>, PyObject <matplotlib.patches.Rectangle object at 0x136b63b50>, PyObject <matplotlib.patches.Rectangle object at 0x136b63ed0>, PyObject <matplotlib.patches.Rectangle object at 0x136b6f290>, PyObject <matplotlib.patches.Rectangle object at 0x136b6f610>, PyObject <matplotlib.patches.Rectangle object at 0x136b6f990>, PyObject <matplotlib.patches.Rectangle object at 0x136b6fd10>, PyObject <matplotlib.patches.Rectangle object at 0x136b7d0d0>, PyObject <matplotlib.patches.Rectangle object at 0x136b7d450>, PyObject <matplotlib.patches.Rectangle object at 0x136b7d7d0>, PyObject <matplotlib.patches.Rectangle object at 0x136b7db50>, PyObject <matplotlib.patches.Rectangle object at 0x136b7ded0>, PyObject <matplotlib.patches.Rectangle object at 0x136b89290>, PyObject <matplotlib.patches.Rectangle object at 0x136b89610>, PyObject <matplotlib.patches.Rectangle object at 0x136b89990>, PyObject <matplotlib.patches.Rectangle object at 0x136b89d10>, PyObject <matplotlib.patches.Rectangle object at 0x136b950d0>, PyObject <matplotlib.patches.Rectangle object at 0x136b95450>, PyObject <matplotlib.patches.Rectangle object at 0x136b957d0>, PyObject <matplotlib.patches.Rectangle object at 0x136b95b50>, PyObject <matplotlib.patches.Rectangle object at 0x136b95ed0>, PyObject <matplotlib.patches.Rectangle object at 0x136ba3290>, PyObject <matplotlib.patches.Rectangle object at 0x136ba3610>, PyObject <matplotlib.patches.Rectangle object at 0x136ba3990>, PyObject <matplotlib.patches.Rectangle object at 0x136ba3d10>, PyObject <matplotlib.patches.Rectangle object at 0x136baf0d0>, PyObject <matplotlib.patches.Rectangle object at 0x136baf450>, PyObject <matplotlib.patches.Rectangle object at 0x136baf7d0>, PyObject <matplotlib.patches.Rectangle object at 0x136bafb50>, PyObject <matplotlib.patches.Rectangle object at 0x136bafed0>, PyObject <matplotlib.patches.Rectangle object at 0x136bba290>, PyObject <matplotlib.patches.Rectangle object at 0x136bba610>, PyObject <matplotlib.patches.Rectangle object at 0x136bba990>, PyObject <matplotlib.patches.Rectangle object at 0x136bbad10>, PyObject <matplotlib.patches.Rectangle object at 0x136bc60d0>, PyObject <matplotlib.patches.Rectangle object at 0x136bc6450>, PyObject <matplotlib.patches.Rectangle object at 0x136bc67d0>, PyObject <matplotlib.patches.Rectangle object at 0x136bc6b50>, PyObject <matplotlib.patches.Rectangle object at 0x136bc6ed0>, PyObject <matplotlib.patches.Rectangle object at 0x136bd4290>, PyObject <matplotlib.patches.Rectangle object at 0x136bd4610>, PyObject <matplotlib.patches.Rectangle object at 0x136bd4990>, PyObject <matplotlib.patches.Rectangle object at 0x136bd4d10>)"
      ]
     },
     "execution_count": 62,
     "metadata": {},
     "output_type": "execute_result"
    }
   ],
   "source": [
    "PyPlot.bar(1:3*poscar_negative.natoms,projections)"
   ]
  },
  {
   "cell_type": "code",
   "execution_count": 63,
   "metadata": {},
   "outputs": [
    {
     "name": "stdout",
     "output_type": "stream",
     "text": [
      "16\n",
      "65\n",
      "133\n",
      "134\n",
      "142\n",
      "144\n",
      "186\n"
     ]
    }
   ],
   "source": [
    "# Not sure if this should be abs or not. Gives the phonon modes which contribute to the distortion.\n",
    "# could be used to analyse (with three-phonon phase space) how efficiently heat will propagate away\n",
    "for (i,item) in enumerate(projections)\n",
    " if abs(item) > 0.1\n",
    "        println(i)\n",
    "    end\n",
    "    end"
   ]
  },
  {
   "cell_type": "code",
   "execution_count": null,
   "metadata": {},
   "outputs": [],
   "source": [
    "## TODO:\n",
    "## - IPR of these phonon modes\n",
    "## - animations of these phonon modes"
   ]
  },
  {
   "cell_type": "code",
   "execution_count": 64,
   "metadata": {},
   "outputs": [],
   "source": [
    "distribution_function = []\n",
    "for neut_mode in phonons_neutral[1]\n",
    "    for neg_mode in phonons_negative[1]\n",
    "    push!(distribution_function,abs(dot(neut_mode,neg_mode)))\n",
    "    end\n",
    "end"
   ]
  },
  {
   "cell_type": "code",
   "execution_count": 65,
   "metadata": {},
   "outputs": [
    {
     "data": {
      "text/plain": [
       "291×291 Array{Any,2}:\n",
       " 0.00051728   0.603857     0.00805939   …  8.4554e-6    1.28483e-6 \n",
       " 9.61381e-5   0.684733     0.517114        9.34084e-6   1.77293e-5 \n",
       " 0.000190213  0.408025     0.855877        2.60376e-6   7.43047e-6 \n",
       " 0.170903     0.000818206  3.87933e-5      0.000636401  0.0127456  \n",
       " 0.104791     0.000917567  0.000899        0.00660885   0.000490541\n",
       " 0.0468291    0.000492515  0.000936953  …  0.00289321   0.00431903 \n",
       " 0.0940687    0.000815761  8.05079e-5      0.00376132   0.00478921 \n",
       " 0.0711615    0.00019101   7.55113e-6      0.0053505    0.00826601 \n",
       " 0.103363     8.56486e-5   9.04069e-5      0.00533725   0.00038815 \n",
       " 0.0199947    1.56761e-5   0.000218747     0.0029478    0.000583443\n",
       " 0.00774476   0.000108696  0.000327669  …  0.00215165   0.00204541 \n",
       " 0.00954395   0.000635849  0.000230106     0.00371233   0.00194311 \n",
       " 0.000961158  5.9238e-6    0.000117076     0.00172055   0.00458171 \n",
       " ⋮                                      ⋱               ⋮          \n",
       " 0.000232469  3.11262e-6   3.88059e-6      0.0922432    0.000677122\n",
       " 0.00140339   5.12729e-6   2.78134e-6   …  0.0803298    0.00558266 \n",
       " 0.00155079   1.46035e-5   1.15015e-5      0.00607675   1.3537e-5  \n",
       " 0.000161773  1.36213e-6   1.66934e-6      0.118282     0.00160716 \n",
       " 0.000650827  1.69337e-5   9.08156e-6      0.0114101    0.0172599  \n",
       " 0.0010898    1.22218e-5   3.82654e-6      0.00561888   0.00460522 \n",
       " 0.000567808  1.59221e-6   1.70423e-6   …  0.122703     0.000857841\n",
       " 0.00307172   1.69936e-5   3.78799e-6      0.0081727    0.00148916 \n",
       " 0.00102647   1.61292e-5   2.61875e-7      0.0219146    0.0259116  \n",
       " 0.00323571   1.34688e-5   4.28056e-6      0.00302835   0.00345634 \n",
       " 0.067338     3.95687e-6   1.28593e-5      0.00481367   0.0659737  \n",
       " 0.0726443    3.48323e-6   1.65284e-5   …  0.00124846   0.0868357  "
      ]
     },
     "execution_count": 65,
     "metadata": {},
     "output_type": "execute_result"
    }
   ],
   "source": [
    "distribution_function = reshape(distribution_function,3*poscar_negative.natoms,3*poscar_neutral.natoms)"
   ]
  },
  {
   "cell_type": "code",
   "execution_count": 119,
   "metadata": {},
   "outputs": [
    {
     "data": {
      "image/png": "[encoded data removed]",
      "text/plain": [
       "PyPlot.Figure(PyObject <Figure size 640x480 with 1 Axes>)"
      ]
     },
     "metadata": {},
     "output_type": "display_data"
    },
    {
     "data": {
      "text/plain": [
       "24"
      ]
     },
     "execution_count": 119,
     "metadata": {},
     "output_type": "execute_result"
    }
   ],
   "source": [
    "## this tells us which modes have shifted up or down in energy\n",
    "\n",
    "i=36\n",
    "\n",
    "PyPlot.bar(1:3*poscar_negative.natoms,distribution_function[:,i])\n",
    "PyPlot.xlabel(\"negative phonon mode\")\n",
    "PyPlot.title(string(\"Neutral phonon mode: \",i))\n",
    "\n",
    "indmax(distribution_function[:,i])"
   ]
  },
  {
   "cell_type": "code",
   "execution_count": 89,
   "metadata": {},
   "outputs": [
    {
     "ename": "LoadError",
     "evalue": "\u001b[91mPyError (ccall(@pysym(:PyObject_Call), PyPtr, (PyPtr, PyPtr, PyPtr), o, arg, C_NULL)) <type 'exceptions.TypeError'>\nTypeError('bar3d() takes at least 7 arguments (4 given)',)\n\u001b[39m",
     "output_type": "error",
     "traceback": [
      "\u001b[91mPyError (ccall(@pysym(:PyObject_Call), PyPtr, (PyPtr, PyPtr, PyPtr), o, arg, C_NULL)) <type 'exceptions.TypeError'>\nTypeError('bar3d() takes at least 7 arguments (4 given)',)\n\u001b[39m",
      "",
      "Stacktrace:",
      " [1] \u001b[1mpyerr_check\u001b[22m\u001b[22m at \u001b[1m/Users/lw827/.julia/v0.6/PyCall/src/exception.jl:56\u001b[22m\u001b[22m [inlined]",
      " [2] \u001b[1mpyerr_check\u001b[22m\u001b[22m at \u001b[1m/Users/lw827/.julia/v0.6/PyCall/src/exception.jl:61\u001b[22m\u001b[22m [inlined]",
      " [3] \u001b[1mmacro expansion\u001b[22m\u001b[22m at \u001b[1m/Users/lw827/.julia/v0.6/PyCall/src/exception.jl:81\u001b[22m\u001b[22m [inlined]",
      " [4] \u001b[1m#_pycall#66\u001b[22m\u001b[22m\u001b[1m(\u001b[22m\u001b[22m::Array{Any,1}, ::Function, ::PyCall.PyObject, ::UnitRange{Int64}, ::Vararg{Any,N} where N\u001b[1m)\u001b[22m\u001b[22m at \u001b[1m/Users/lw827/.julia/v0.6/PyCall/src/PyCall.jl:596\u001b[22m\u001b[22m",
      " [5] \u001b[1m_pycall\u001b[22m\u001b[22m\u001b[1m(\u001b[22m\u001b[22m::PyCall.PyObject, ::UnitRange{Int64}, ::Vararg{Any,N} where N\u001b[1m)\u001b[22m\u001b[22m at \u001b[1m/Users/lw827/.julia/v0.6/PyCall/src/PyCall.jl:584\u001b[22m\u001b[22m",
      " [6] \u001b[1m#pycall#70\u001b[22m\u001b[22m\u001b[1m(\u001b[22m\u001b[22m::Array{Any,1}, ::Function, ::PyCall.PyObject, ::Type{PyCall.PyAny}, ::UnitRange{Int64}, ::Vararg{Any,N} where N\u001b[1m)\u001b[22m\u001b[22m at \u001b[1m/Users/lw827/.julia/v0.6/PyCall/src/PyCall.jl:618\u001b[22m\u001b[22m",
      " [7] \u001b[1mpycall\u001b[22m\u001b[22m\u001b[1m(\u001b[22m\u001b[22m::PyCall.PyObject, ::Type{PyCall.PyAny}, ::UnitRange{Int64}, ::Vararg{Any,N} where N\u001b[1m)\u001b[22m\u001b[22m at \u001b[1m/Users/lw827/.julia/v0.6/PyCall/src/PyCall.jl:618\u001b[22m\u001b[22m",
      " [8] \u001b[1m#bar3d#165\u001b[22m\u001b[22m\u001b[1m(\u001b[22m\u001b[22m::Array{Any,1}, ::Function, ::UnitRange{Int64}, ::Vararg{Any,N} where N\u001b[1m)\u001b[22m\u001b[22m at \u001b[1m/Users/lw827/.julia/v0.6/PyPlot/src/PyPlot.jl:233\u001b[22m\u001b[22m",
      " [9] \u001b[1mbar3d\u001b[22m\u001b[22m\u001b[1m(\u001b[22m\u001b[22m::UnitRange{Int64}, ::Vararg{Any,N} where N\u001b[1m)\u001b[22m\u001b[22m at \u001b[1m/Users/lw827/.julia/v0.6/PyPlot/src/PyPlot.jl:232\u001b[22m\u001b[22m",
      " [10] \u001b[1mbar3D\u001b[22m\u001b[22m\u001b[1m(\u001b[22m\u001b[22m::UnitRange{Int64}, ::Vararg{Any,N} where N\u001b[1m)\u001b[22m\u001b[22m at \u001b[1m/Users/lw827/.julia/v0.6/PyPlot/src/PyPlot.jl:241\u001b[22m\u001b[22m",
      " [11] \u001b[1minclude_string\u001b[22m\u001b[22m\u001b[1m(\u001b[22m\u001b[22m::String, ::String\u001b[1m)\u001b[22m\u001b[22m at \u001b[1m./loading.jl:515\u001b[22m\u001b[22m"
     ]
    }
   ],
   "source": [
    "PyPlot.bar3D(1:3*poscar_negative.natoms,1:3*poscar_neutral.natoms,[0]*3*poscar_neutral.natoms,[0.01]*3*poscar_neutral.natomsdistribution_function,)"
   ]
  },
  {
   "cell_type": "code",
   "execution_count": 80,
   "metadata": {},
   "outputs": [
    {
     "data": {
      "image/png": "[encoded data removed]",
      "text/plain": [
       "PyPlot.Figure(PyObject <Figure size 640x480 with 1 Axes>)"
      ]
     },
     "metadata": {},
     "output_type": "display_data"
    },
    {
     "data": {
      "text/plain": [
       "PyObject Text(0.5,24,'neutral phonon mode')"
      ]
     },
     "execution_count": 80,
     "metadata": {},
     "output_type": "execute_result"
    }
   ],
   "source": [
    "g = []\n",
    "for i in poscar_neutral.natoms\n",
    "    push!(g,maximum(1 ./ distribution_function[:,i]))\n",
    "    end\n",
    "PyPlot.bar(1:3*poscar_neutral.natoms,g)\n",
    "PyPlot.xlabel(\"neutral phonon mode\")"
   ]
  },
  {
   "cell_type": "code",
   "execution_count": 78,
   "metadata": {},
   "outputs": [
    {
     "data": {
      "text/plain": [
       "3.5143125031744847e9"
      ]
     },
     "execution_count": 78,
     "metadata": {},
     "output_type": "execute_result"
    }
   ],
   "source": [
    "maximum(1 ./ distribution_function[:,i])"
   ]
  },
  {
   "cell_type": "code",
   "execution_count": null,
   "metadata": {},
   "outputs": [],
   "source": []
  }
 ],
 "metadata": {
  "kernelspec": {
   "display_name": "Julia 0.6.0",
   "language": "julia",
   "name": "julia-0.6"
  },
  "language_info": {
   "file_extension": ".jl",
   "mimetype": "application/julia",
   "name": "julia",
   "version": "0.6.0"
  }
 },
 "nbformat": 4,
 "nbformat_minor": 2
}
